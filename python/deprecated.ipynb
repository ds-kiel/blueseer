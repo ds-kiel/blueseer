{
 "cells": [
  {
   "cell_type": "markdown",
   "metadata": {},
   "source": [
    "# BlueSeer - Training, Quantization, and Export"
   ]
  },
  {
   "cell_type": "code",
   "execution_count": null,
   "metadata": {},
   "outputs": [],
   "source": [
    "import os, io, time, copy\n",
    "\n",
    "import sklearn\n",
    "import tensorflow as tf\n",
    "import tensorflow_model_optimization as tfmot\n",
    "import pandas as pd\n",
    "import numpy as np\n",
    "import matplotlib\n",
    "import matplotlib.pyplot as plt\n",
    "import seaborn as sn\n",
    "import absl\n",
    "\n",
    "from sklearn.model_selection import train_test_split\n",
    "from sklearn.metrics import confusion_matrix\n",
    "from sklearn.tree import DecisionTreeClassifier\n",
    "from sklearn.ensemble import RandomForestClassifier\n",
    "\n",
    "# Remove Tensorflow C-level logging and warnings\n",
    "tf.get_logger().setLevel('ERROR')\n",
    "absl.logging.set_verbosity(absl.logging.ERROR)\n",
    "os.environ['TF_CPP_MIN_LOG_LEVEL'] = '3'\n",
    "\n",
    "# Force font embedding when creating figure as PDF\n",
    "matplotlib.rcParams['pdf.fonttype'] = 42\n",
    "matplotlib.rcParams['ps.fonttype'] = 42"
   ]
  },
  {
   "cell_type": "markdown",
   "metadata": {},
   "source": [
    "# 1. Dataset"
   ]
  },
  {
   "cell_type": "code",
   "execution_count": null,
   "metadata": {},
   "outputs": [],
   "source": [
    "train_set_path = \"../dataset/train\"\n",
    "test_set_path = \"../dataset/test\"\n",
    "output_path = \"./constants_eval.cc\"\n",
    "\n",
    "base_path = \"./\"\n",
    "\n",
    "MODELS_DIR = os.path.join(base_path, 'models')\n",
    "if not os.path.exists(MODELS_DIR):\n",
    "    os.mkdir(MODELS_DIR)\n",
    "MODEL_TF = MODELS_DIR + 'model'\n",
    "MODEL_TFLITE = MODELS_DIR + 'model.tflite'\n",
    "MODEL_TFLITE_CPP = MODELS_DIR + 'model.cc'"
   ]
  },
  {
   "cell_type": "markdown",
   "metadata": {},
   "source": [
    "### Environment Category Labelling"
   ]
  },
  {
   "cell_type": "code",
   "execution_count": 3,
   "metadata": {},
   "outputs": [],
   "source": [
    "# Combine subclasses from two different data collection periods into one common category bbreakdown\n",
    "CLASS_MAPPING = {\n",
    "        'street':'street',\n",
    "        'park':'nature',\n",
    "        'apartment':'home', \n",
    "        'supermarket':'shopping', \n",
    "        'clothing_store':'shopping', \n",
    "        'train':'transport', \n",
    "        'bus':'transport', \n",
    "        'gym':'entertainment', \n",
    "        'car':'transport', \n",
    "        'house':'home', \n",
    "        'nature':'nature', \n",
    "        'restaurant':'restaurant', \n",
    "        'cinema':'entertainment', \n",
    "        'concert':'entertainment', \n",
    "        'plane':'transport',\n",
    "        'bar':'restaurant',\n",
    "        'shopping':'shopping',\n",
    "        'transport':'transport',\n",
    "        'home':'home',\n",
    "        'office':'office',\n",
    "        'mensa':'restaurant',\n",
    "        'lecture':'university', \n",
    "    }\n",
    "\n",
    "def original_classes_to_blueseer_classes(Y_labels):\n",
    "    mapping = CLASS_MAPPING.get\n",
    "    return [mapping(label, label) for label in Y_labels]"
   ]
  },
  {
   "cell_type": "markdown",
   "metadata": {},
   "source": [
    "### Parsing collected samples"
   ]
  },
  {
   "cell_type": "code",
   "execution_count": 4,
   "metadata": {},
   "outputs": [],
   "source": [
    "# Find all paths to .CSV files\n",
    "def find_csv_filenames(path_to_dir, suffix=\".CSV\"):\n",
    "    filenames = []\n",
    "    for sub in os.walk(path_to_dir):\n",
    "        if sub[0] != path_to_dir:\n",
    "            # find all .CSV files within the folder\n",
    "            filenames += [sub[0] + \"/\" +\n",
    "            filename for filename in os.listdir(sub[0]) if filename.endswith(suffix)]\n",
    "    filenames.sort()\n",
    "    return filenames\n",
    "\n",
    "\n",
    "# Parse .CSV files into pandas Dataframes\n",
    "def parse_files_to_df(files):\n",
    "    dataframes = []\n",
    "    for f in files:\n",
    "        df = pd.read_csv(f)\n",
    "        dataframes.append(df)\n",
    "    return dataframes\n",
    "\n",
    "\n",
    "\n",
    "#most common services in selected environments\n",
    "SERVICES = [\t\"0af0\", \"1802\", \"180f\", \"1812\", \"1826\", \"2222\", \"ec88\", \"fd5a\",\n",
    "    \"fd6f\", \"fdd2\", \"fddf\", \"fe03\", \"fe07\", \"fe0f\", \"fe61\", \"fe9f\",\n",
    "    \"fea0\", \"feb9\", \"febe\", \"fee0\", \"ff0d\", \"ffc0\", \"ffe0\"]\n",
    "\n",
    "# features collected that are not used when creating the dataset\n",
    "MUST_REMOVE_COLUMNS = [\" services\", \" manufacturer_data_lengths\",' time_point_1', ' time_point_2', ' time_point_3']\n",
    "\n",
    "def process_files(dataframes,\n",
    "                  without_services = False,\n",
    "                  only_labels = None,\n",
    "                  remove_columns = None,\n",
    "                  verbose=False,\n",
    "                 ):\n",
    "\n",
    "    X_datapoints = []\n",
    "    Y_labels = []\n",
    "    available_columns = dataframes[0].columns.tolist()\n",
    "    # remove label from columns\n",
    "    available_columns.remove(\"label\")\n",
    "    # remove deprecated columns that might exist in the dataset\n",
    "    for col in MUST_REMOVE_COLUMNS:\n",
    "        try:\n",
    "            available_columns.remove(col) # there must be a leading space!\n",
    "        except Exception as e:\n",
    "            #print(f\"{col} not found in dataset\")\n",
    "            pass\n",
    "    # remove any column we wish to get rid of\n",
    "    if remove_columns is not None:\n",
    "        for col in remove_columns:\n",
    "            try:\n",
    "                available_columns.remove(col) # there must be a leading space!\n",
    "            except Exception as e:\n",
    "                #print(f\"{col} not found in dataset\")\n",
    "                pass\n",
    "    # if we want to get rid of the 23most-common services, do so now\n",
    "    if without_services:\n",
    "        for serv in SERVICES:\n",
    "            available_columns.remove(f\" {serv}\") # there is always a leading space!\n",
    "\n",
    "    # for-each dataframe, add it to the dataset\n",
    "    for df in dataframes:\n",
    "        # Find label from first row\n",
    "        label = df.iloc[0][\"label\"]\n",
    "        X_datapoints.append(df[available_columns].to_numpy().flatten()) # .iloc[:num_scans-1]\n",
    "        Y_labels.append(label)\n",
    "    \n",
    "    X_datapoints = np.array(X_datapoints)\n",
    "    \n",
    "    # Update classes to DAC classes\n",
    "    Y_labels = original_classes_to_blueseer_classes(Y_labels)\n",
    "    Y_labels = np.array(Y_labels)\n",
    "    \n",
    "    # Remove entertainment class & samples from dataset\n",
    "    data_to_keep = Y_labels!='entertainment'#np.array([y!='entertainment' for y in Y_labels])\n",
    "    X_datapoints = X_datapoints[data_to_keep]\n",
    "    Y_labels = Y_labels[data_to_keep]\n",
    "    Y_labels = list(Y_labels)\n",
    "    Y_labels = np.array(Y_labels)\n",
    "    # university\n",
    "    data_to_keep = Y_labels!='university'#np.array([y!='entertainment' for y in Y_labels])\n",
    "    X_datapoints = X_datapoints[data_to_keep]\n",
    "    Y_labels = Y_labels[data_to_keep]\n",
    "    Y_labels = list(Y_labels)\n",
    "\n",
    "    # Check how many samples per environment where found\n",
    "    unique_labels = set(Y_labels)\n",
    "    if verbose:\n",
    "        print(unique_labels)\n",
    "        for lbl in unique_labels:\n",
    "            print(f\"{lbl}: {Y_labels.count(lbl)}\")\n",
    "    unique_labels = list(unique_labels)\n",
    "    \n",
    "    return X_datapoints, Y_labels, unique_labels, available_columns\n",
    "\n",
    "\n"
   ]
  },
  {
   "cell_type": "markdown",
   "metadata": {},
   "source": [
    "### Data Normalization"
   ]
  },
  {
   "cell_type": "code",
   "execution_count": 5,
   "metadata": {},
   "outputs": [],
   "source": [
    "# Z-score normalization: find Mean and Standard deviation of the distribution\n",
    "def get_normalization_params(X):\n",
    "    X = np.array(X)\n",
    "    # Extract mean and std, per-feature\n",
    "    feature_mean = np.nanmean(X,axis=0)\n",
    "    feature_std = np.nanstd(X,axis=0)\n",
    "    return feature_mean, feature_std\n",
    "\n",
    "# X_normalized = (X - mean(X)) / STD(X)\n",
    "def normalize_data(X,\n",
    "                   Y_str,\n",
    "                   feature_mean,\n",
    "                   feature_std,\n",
    "                   labels,\n",
    "                   ):\n",
    "    X = np.array(X)\n",
    "    X = (X-feature_mean)/(feature_std+np.finfo(float).eps)\n",
    "    # Transform Y data from string to integer\n",
    "    Y = np.zeros((len(Y_str),))\n",
    "    for i in range(len(Y_str)):\n",
    "        Y[i] = labels.index(Y_str[i])\n",
    "    Y = np.array(Y,dtype=np.int8)\n",
    "    return X, Y"
   ]
  },
  {
   "cell_type": "code",
   "execution_count": null,
   "metadata": {},
   "outputs": [],
   "source": [
    "# Generate C++ friendly representation of the normalization paramaters\n",
    "# The function is called when generation the C++ code of BlueSeer\n",
    "def generate_normalization_parameters_CPP(mean_list, std_list, labels):\n",
    "    mean_str = \"const float mean_list[] = {\"\n",
    "    for i in range(0, len(mean_list)):\n",
    "        if i != 0:\n",
    "            mean_str += \", \"\n",
    "        mean_str += str(mean_list[i])\n",
    "    mean_str += \"};\"\n",
    "    \n",
    "    std_str = \"const float std_list[] = {\"\n",
    "    for i in range(0, len(std_list)):\n",
    "        if i != 0:\n",
    "            std_str += \", \"\n",
    "        std_str += str(std_list[i])\n",
    "    std_str += \"};\"\n",
    "\n",
    "    labels_str = \"const char available_env[][16] = {\"\n",
    "    for i in range(0, len(labels)):\n",
    "        if i != 0:\n",
    "            labels_str += \", \"\n",
    "        labels_str += \"\\\"\"+labels[i]+\"\\\"\"\n",
    "    labels_str += \"};\"\n",
    "    return mean_str, std_str, labels_str"
   ]
  },
  {
   "cell_type": "markdown",
   "metadata": {},
   "source": [
    "### Class Equalization"
   ]
  },
  {
   "cell_type": "code",
   "execution_count": null,
   "metadata": {},
   "outputs": [],
   "source": [
    "def equalize_class_distribution(X, Y, remove_class=[]):\n",
    "    # Separate each class instance into bins\n",
    "    classes = list(np.unique(Y))\n",
    "    try:\n",
    "        classes.remove(remove_class)\n",
    "    except Exception as e:\n",
    "        pass\n",
    "    per_class_X = dict()\n",
    "    smallest_class = 999999\n",
    "    for cls in classes:\n",
    "        per_class_X[cls] = X[Y==cls]\n",
    "        smallest_class = per_class_X[cls].shape[0] if per_class_X[cls].shape[0] < smallest_class else smallest_class\n",
    "    # Shuffle data, keep an equal number of instances per class\n",
    "    for cls in classes:\n",
    "        np.random.shuffle(per_class_X[cls])\n",
    "        per_class_X[cls] = per_class_X[cls][:smallest_class]\n",
    "    # recombine into one array\n",
    "    X_new = np.concatenate([per_class_X[cls] for cls in classes], axis=0)\n",
    "    Y_new = np.array([cls for cls in classes for i in range(smallest_class)])\n",
    "    return X_new, Y_new"
   ]
  },
  {
   "cell_type": "markdown",
   "metadata": {},
   "source": [
    "### Dataset Preparation"
   ]
  },
  {
   "cell_type": "code",
   "execution_count": 6,
   "metadata": {},
   "outputs": [],
   "source": [
    "def prepare_datasets(training_path,\n",
    "                     eval_path,\n",
    "                     without_services=True,\n",
    "                     verbose=False,\n",
    "                    ):\n",
    "    if verbose:\n",
    "        print(\"Loading training data...\")\n",
    "    train_dataframes = parse_files_to_df(find_csv_filenames(training_path))\n",
    "    if verbose:\n",
    "        print(\"Loading eval data...\")\n",
    "    eval_dataframes = parse_files_to_df(find_csv_filenames(eval_path))\n",
    "    if verbose:\n",
    "        print(f\"Training set: {len(train_dataframes)} samples\")\n",
    "        print(f\"Eval set: {len(eval_dataframes)} samples\")\n",
    "\n",
    "    if verbose:\n",
    "        print(\"Manipulating training data...\")\n",
    "    X_train, Y_train, labels, features = process_files(train_dataframes,\n",
    "                                                         without_services=without_services,\n",
    "                                                         verbose=verbose,\n",
    "                                                        )\n",
    "    # get per-feature normalization (mean and std)\n",
    "    feature_mean, feature_std = get_normalization_params(X=X_train)\n",
    "    # normalize dataset\n",
    "    X_train, Y_train = normalize_data(X_train,\n",
    "                                          Y_train,\n",
    "                                          feature_mean,\n",
    "                                          feature_std,\n",
    "                                          labels)\n",
    "    if verbose:\n",
    "        print(\"Manipulating eval data...\")\n",
    "    X_eval, Y_eval, _, _ = process_files(eval_dataframes,\n",
    "                                         only_labels = labels,\n",
    "                                         without_services=without_services,\n",
    "                                         verbose=verbose,\n",
    "                                        )\n",
    "    X_eval, Y_eval = normalize_data(X_eval,\n",
    "                                        Y_eval,\n",
    "                                        feature_mean,\n",
    "                                        feature_std,\n",
    "                                        labels\n",
    "                                       )\n",
    "    \n",
    "    # equalizing eval dataset\n",
    "    print(\"equalizing Eval set (all classes have the same number of samples, based on the smallest class)\")\n",
    "    X_eval,Y_eval = equalize_class_distribution(X_eval, Y_eval)\n",
    "    \n",
    "    prepared = dict()\n",
    "    prepared['training'] = (X_train, Y_train)\n",
    "    prepared['eval'] = (X_eval, Y_eval)\n",
    "    prepared['feature_mean'] = feature_mean\n",
    "    prepared['feature_std'] = feature_std\n",
    "    prepared['labels'] = labels\n",
    "    prepared['features'] = features\n",
    "    \n",
    "    return prepared\n",
    "\n",
    "# Divide training dataset into train and test sets\n",
    "def split_training_set(X_train, Y_train):\n",
    "    return X_train, Y_train, None, None"
   ]
  },
  {
   "cell_type": "code",
   "execution_count": 7,
   "metadata": {},
   "outputs": [],
   "source": []
  },
  {
   "cell_type": "markdown",
   "metadata": {},
   "source": [
    "# 2. BlueSeer Neural Network Model"
   ]
  },
  {
   "cell_type": "code",
   "execution_count": null,
   "metadata": {},
   "outputs": [],
   "source": [
    "def get_BlueSeer_model(num_classes, input_shape):\n",
    "    model = tf.keras.Sequential()\n",
    "    model.add(tf.keras.layers.Dense(units=500,input_shape=input_shape,activation=\"relu\",kernel_regularizer=tf.keras.regularizers.l2(1e-5),name=\"layer0_dense\"))\n",
    "    model.add(tf.keras.layers.Dropout(0.5,name=\"layer0_dropout\"))\n",
    "#     model.add(tf.keras.layers.Dense(units=500,activation=\"relu\",kernel_regularizer=tf.keras.regularizers.l2(1e-5),name=\"layer1_dense\"))\n",
    "#     model.add(tf.keras.layers.Dropout(0.5,name=\"layer1_dropout\"))\n",
    "    model.add(tf.keras.layers.Dense(units=num_classes,activation=\"softmax\",kernel_regularizer=tf.keras.regularizers.l2(1e-5),name=\"layer2_class_output\"))\n",
    "    return model\n",
    "\n",
    "# layer is an array containing the number of neurons per Dense layer\n",
    "# example: layers=[250,250] creates a NN with two hidden Dense layers with 250 neurons each\n",
    "# We add a dropout with p=0.5 after every layer\n",
    "def get_varying_size_BlueSeer_model(num_classes, layers):\n",
    "    model = tf.keras.Sequential()\n",
    "    for num_neurons in layers:\n",
    "        model.add(tf.keras.layers.Dense(units=num_neurons,activation=\"relu\",kernel_regularizer=tf.keras.regularizers.l2(1e-5)))\n",
    "        model.add(tf.keras.layers.Dropout(0.5))\n",
    "    model.add(tf.keras.layers.Dense(units=num_classes,activation=\"softmax\",kernel_regularizer=tf.keras.regularizers.l2(1e-5)))\n",
    "    return model\n",
    "\n",
    "\n",
    "# learning Rate decay\n",
    "def lr_scheduler(epoch, lr):\n",
    "    if epoch < 4:\n",
    "        return 0.01\n",
    "    else:\n",
    "        return lr * tf.math.exp(-0.1)\n",
    "\n",
    "\n",
    "def get_smallest_model(num_classes, input_shape):\n",
    "    model = tf.keras.Sequential()\n",
    "    model.add(tf.keras.layers.Dense(units=num_classes,input_shape=input_shape,activation=\"softmax\",kernel_regularizer=tf.keras.regularizers.l2(1e-5),name=\"layer2_class_output\"))\n",
    "    return model\n"
   ]
  },
  {
   "cell_type": "code",
   "execution_count": null,
   "metadata": {},
   "outputs": [],
   "source": []
  },
  {
   "cell_type": "markdown",
   "metadata": {},
   "source": [
    "# 3. Training"
   ]
  },
  {
   "cell_type": "code",
   "execution_count": null,
   "metadata": {},
   "outputs": [],
   "source": [
    "prepared = prepare_datasets(train_set_path, test_set_path, without_services=True, verbose=True)\n",
    "\n",
    "(X_train,Y_train) = prepared['training']\n",
    "(X_eval, Y_eval) = prepared['eval']\n",
    "labels = prepared['labels']\n",
    "feature_mean = prepared['feature_mean']\n",
    "feature_std = prepared['feature_std']\n",
    "feature_std = np.maximum(feature_std, 1.0)\n",
    "features = prepared['features']"
   ]
  },
  {
   "cell_type": "code",
   "execution_count": null,
   "metadata": {},
   "outputs": [],
   "source": [
    "best_model = None\n",
    "best_acc = 0.0\n",
    "for i in range(10):\n",
    "    # Create test split\n",
    "    X_train, X_val, Y_train, Y_val = train_test_split(X_train, Y_train, test_size=0.1)\n",
    "    # Create and eval model\n",
    "    model,acc, _, _ = eval_model(X_train,\n",
    "               Y_train,\n",
    "               X_val,\n",
    "               Y_val,\n",
    "               X_eval,\n",
    "               Y_eval,\n",
    "               labels,\n",
    "               feature_mean,\n",
    "               feature_std,\n",
    "               features,\n",
    "               verbose=0,\n",
    "               quantize_model=True,\n",
    "              )\n",
    "    if acc > best_acc:\n",
    "        best_model = model"
   ]
  },
  {
   "cell_type": "markdown",
   "metadata": {},
   "source": [
    "# 4. Model Conversion"
   ]
  },
  {
   "cell_type": "code",
   "execution_count": null,
   "metadata": {},
   "outputs": [],
   "source": [
    "def convert_model(original_model, X_train):\n",
    "    converter = tf.lite.TFLiteConverter.from_keras_model(original_model)\n",
    "    # Set the optimization flag\n",
    "    converter.optimizations = [tf.lite.Optimize.DEFAULT]\n",
    "    # Enforce integer only quantization\n",
    "    converter.target_spec.supported_ops = [tf.lite.OpsSet.TFLITE_BUILTINS]\n",
    "    # We keep float for input and output\n",
    "    converter.inference_input_type = tf.float32\n",
    "    converter.inference_output_type = tf.float32\n",
    "    # Provide a representative dataset to ensure we quantize correctly\n",
    "    def representative_dataset():\n",
    "        for i in range(len(X_train)):\n",
    "            yield([np.float32(X_train[i]).reshape(1, len(X_train[0]))])\n",
    "    converter.representative_dataset = representative_dataset\n",
    "    # Convert model\n",
    "    embedded_model = converter.convert()\n",
    "    # Temporary save the model to measure its size\n",
    "    open(\"temp_model\", \"wb\").write(embedded_model)\n",
    "    size = os.path.getsize(\"temp_model\")\n",
    "    \n",
    "    return embedded_model, size"
   ]
  },
  {
   "cell_type": "code",
   "execution_count": null,
   "metadata": {},
   "outputs": [],
   "source": []
  },
  {
   "cell_type": "code",
   "execution_count": null,
   "metadata": {},
   "outputs": [],
   "source": []
  },
  {
   "cell_type": "markdown",
   "metadata": {},
   "source": [
    "# Remove scans and features from prepared datasets "
   ]
  },
  {
   "cell_type": "code",
   "execution_count": 8,
   "metadata": {},
   "outputs": [],
   "source": [
    "def keep_n_scans(X, num_scans=5, num_features=23):\n",
    "    assert num_scans>0 and num_scans <=5\n",
    "    return np.copy(X[:,:num_scans*num_features])\n",
    "\n",
    "def remove_features(X, features, unwanted_features):\n",
    "    X = np.copy(X)\n",
    "    features_ = features.copy()\n",
    "    for col_ft in unwanted_features:\n",
    "        try:\n",
    "            col = features_.index(col_ft)\n",
    "            X = np.delete(X,col,axis=1)\n",
    "            features_.remove(col_ft)\n",
    "        except Exception as e:\n",
    "            print(e)\n",
    "            print(features)\n",
    "            print(ft, col)\n",
    "            assert 1==0\n",
    "    return X"
   ]
  },
  {
   "cell_type": "markdown",
   "metadata": {},
   "source": [
    "## Model"
   ]
  },
  {
   "cell_type": "code",
   "execution_count": 103,
   "metadata": {},
   "outputs": [],
   "source": []
  },
  {
   "cell_type": "code",
   "execution_count": 10,
   "metadata": {},
   "outputs": [],
   "source": [
    "def plot_results(history):\n",
    "      # plot loss during training\n",
    "      plt.subplot(211)\n",
    "      plt.title('Loss')\n",
    "      plt.plot(history.history['loss'], label='train')\n",
    "      plt.plot(history.history['val_loss'], label='test')\n",
    "      plt.legend()\n",
    "      # plot accuracy during training\n",
    "      plt.subplot(212)\n",
    "      plt.title('Accuracy')\n",
    "      plt.plot(history.history['sparse_categorical_accuracy'], label='train')\n",
    "      plt.plot(history.history['val_sparse_categorical_accuracy'], label='test')\n",
    "      plt.legend()\n",
    "      plt.show()\n"
   ]
  },
  {
   "cell_type": "markdown",
   "metadata": {},
   "source": [
    "### Convert model"
   ]
  },
  {
   "cell_type": "code",
   "execution_count": 11,
   "metadata": {},
   "outputs": [],
   "source": [
    "def convert_model(original_model, X_train):\n",
    "    \n",
    "    converter = tf.lite.TFLiteConverter.from_keras_model(original_model)\n",
    "    # Set the optimization flag\n",
    "    converter.optimizations = [tf.lite.Optimize.DEFAULT]\n",
    "    # Enforce integer only quantization\n",
    "    converter.target_spec.supported_ops = [tf.lite.OpsSet.TFLITE_BUILTINS]\n",
    "    # We keep float for input and output\n",
    "    converter.inference_input_type = tf.float32\n",
    "    converter.inference_output_type = tf.float32\n",
    "    # Provide a representative dataset to ensure we quantize correctly\n",
    "    def representative_dataset():\n",
    "        for i in range(len(X_train)):\n",
    "            yield([np.float32(X_train[i]).reshape(1, len(X_train[0]))])\n",
    "    converter.representative_dataset = representative_dataset\n",
    "    # Convert model\n",
    "    embedded_model = converter.convert()\n",
    "    # Temporary save the model to measure its size\n",
    "    open(\"temp_model\", \"wb\").write(embedded_model)\n",
    "    size = os.path.getsize(\"temp_model\")\n",
    "    \n",
    "    return embedded_model, size"
   ]
  },
  {
   "cell_type": "code",
   "execution_count": 12,
   "metadata": {},
   "outputs": [],
   "source": [
    "def evaluate_preds(predictions,\n",
    "                   test_x,\n",
    "                   test_y,\n",
    "                   labels,\n",
    "                   data_columns,\n",
    "                   feature_mean,\n",
    "                   feature_std,\n",
    "                   verbose = True):\n",
    "  wrong_predictions = {label:0 for label in labels}\n",
    "  df_columns = np.array([[c+\"_\"+str(j) for c in data_columns] for j in range(0,5)]).flatten()\n",
    "  evaluation = {label:{label_: pd.DataFrame(index=df_columns, dtype=\"int\").T for label_ in labels} for label in labels}\n",
    "\n",
    "  for i in range(0, len(predictions)):\n",
    "    pred = predictions[i].flatten().tolist()\n",
    "    pred_label = \"\"\n",
    "    pred_index = pred.index( max(pred))\n",
    "    if len(labels) > pred_index:\n",
    "       pred_label = labels[pred_index] \n",
    "    true_label = labels[test_y[i]]\n",
    "\n",
    "    # which environments get wrongly classified to which environments\n",
    "    evaluation[true_label][pred_label]= evaluation[true_label][pred_label].append(pd.DataFrame([int((test_x[i][k] * feature_std[k%len(data_columns)]) + feature_mean[k%len(data_columns)]) for k in range(0, len(test_x[i]))], index=df_columns, dtype=\"int\").T, ignore_index = True)\n",
    "    if pred_label != true_label:\n",
    "        wrong_predictions[true_label] += 1\n",
    "\n",
    "  w_pred_str = \"\"\n",
    "  for l in wrong_predictions:\n",
    "    w_pred_str += l + \": \"+ str(wrong_predictions[l])+\"/\"+str(len([label_y for label_y in test_y if label_y == labels.index(l)]))+\", \"\n",
    "\n",
    "  accuracy = 1- sum(wrong_predictions.values())/len(test_y)\n",
    "\n",
    "  if verbose: \n",
    "    print(\"predicted wrong: \"+w_pred_str)\n",
    "    print(\"predicted wrong overall: \"+str(sum(wrong_predictions.values()))+\"/\"+str(len(test_y))+\" (acc: \"+str(round(accuracy*100,2))+\"%)\")\n",
    "  \n",
    "  return evaluation, accuracy\n",
    "\n",
    "\n",
    "\n",
    "def predict_tflite(tflite_model, test_x):\n",
    "  # Prepare the test data\n",
    "  x_test_ = test_x.copy()\n",
    "  x_test_ = x_test_.astype(np.float32)\n",
    "\n",
    " \n",
    "  # Initialize the TFLite interpreter\n",
    "  interpreter = tf.lite.Interpreter(model_content=tflite_model)\n",
    "  interpreter.allocate_tensors()\n",
    "\n",
    "  input_details = interpreter.get_input_details()[0]\n",
    "  output_details = interpreter.get_output_details()[0]\n",
    "\n",
    "  # Invoke the interpreter\n",
    "  y_pred = []\n",
    "  for i in range((len(x_test_))):\n",
    "    interpreter.set_tensor(input_details[\"index\"], [x_test_[i]])\n",
    "    interpreter.invoke()\n",
    "    y_pred.append(interpreter.get_tensor(output_details[\"index\"]))\n",
    "    \n",
    "  \n",
    "  return y_pred\n",
    "\n"
   ]
  },
  {
   "cell_type": "code",
   "execution_count": 13,
   "metadata": {},
   "outputs": [],
   "source": []
  },
  {
   "cell_type": "markdown",
   "metadata": {},
   "source": [
    "# Evaluate Model"
   ]
  },
  {
   "cell_type": "code",
   "execution_count": 104,
   "metadata": {},
   "outputs": [],
   "source": [
    "def eval_model(X_train,\n",
    "               Y_train,\n",
    "               X_test,\n",
    "               Y_test,\n",
    "               X_eval,\n",
    "               Y_eval,\n",
    "               labels,\n",
    "               feature_mean,\n",
    "               feature_std,\n",
    "               features,\n",
    "               epochs=20,\n",
    "               batch_size=32,\n",
    "               verbose=0,\n",
    "               quantize_model=True,\n",
    "               layers=None,\n",
    "              ):\n",
    "    \n",
    "    # Create Model\n",
    "    #model = BlueSeerNN(num_classes=len(labels))\n",
    "    if layers is None:\n",
    "        model = get_BlueSeer_model(len(labels),(X_train.shape[1],))\n",
    "#         model = get_smallest_model(len(labels),(X_train.shape[1],))\n",
    "    else:\n",
    "        model = get_varying_size_BlueSeer_model(len(labels),layers)\n",
    "    optimizer = tf.keras.optimizers.SGD(learning_rate=0.01,\n",
    "                                        decay=1e-6,\n",
    "                                        momentum=0.9)\n",
    "    # learning rate decay\n",
    "    lr_callback = tf.keras.callbacks.LearningRateScheduler(lr_scheduler)\n",
    "    model.compile(loss='sparse_categorical_crossentropy',\n",
    "                  optimizer=optimizer,\n",
    "                  metrics=tf.keras.metrics.SparseCategoricalAccuracy()\n",
    "                 )\n",
    "    # Train model\n",
    "    history = model.fit(X_train,\n",
    "                        Y_train,\n",
    "                        epochs=epochs,\n",
    "                        validation_data=(X_test, Y_test),\n",
    "                        batch_size=batch_size,\n",
    "                        callbacks=[lr_callback],\n",
    "                        verbose=verbose,\n",
    "                       )\n",
    "    # Plot results?\n",
    "    if verbose:\n",
    "        plot_results(history)\n",
    "\n",
    "    # Evaluate on unseen data\n",
    "    #print(\"Evaluating trained model on unseen data:\")\n",
    "    #model.evaluate(X_eval,Y_eval)\n",
    "    \n",
    "    # Test quantize aware training\n",
    "    model_q_aware = tfmot.quantization.keras.quantize_model(model)\n",
    "    model_q_aware.compile(loss='sparse_categorical_crossentropy',\n",
    "                  optimizer=optimizer,\n",
    "                  metrics=tf.keras.metrics.SparseCategoricalAccuracy()\n",
    "                 )\n",
    "    model_q_aware.fit(X_train,\n",
    "                        Y_train,\n",
    "                        epochs=10,\n",
    "                        validation_data=(X_test, Y_test),\n",
    "                        batch_size=batch_size,\n",
    "                        callbacks=[lr_callback],\n",
    "                        verbose=verbose,\n",
    "                       )\n",
    "    print(\"Evaluating quantize-aware model on unseen data:\")\n",
    "    q_eval_loss, q_eval_acc = model_q_aware.evaluate(X_eval,Y_eval)\n",
    "    print(\"\\n\")\n",
    "    \n",
    "    size = 0        \n",
    "    if quantize_model:\n",
    "        # Create TFLite Model\n",
    "        model_tflite, size = convert_model(model_q_aware, X_train)\n",
    "        print(f\"Size: {size}\")\n",
    "        # Evaluate accuracy of TFLite model on eval data\n",
    "#         _, eval_accuracy_q = evaluate_preds(predict_tflite(model_tflite,np.array(copy.deepcopy(X_eval))),\n",
    "#                                             X_eval,\n",
    "#                                             Y_eval,\n",
    "#                                             labels,\n",
    "#                                             features,\n",
    "#                                             feature_mean,\n",
    "#                                             feature_std,\n",
    "#                                            )\n",
    "\n",
    "    # return confusion matrix for scan window figure\n",
    "    cm = confusion_matrix(Y_eval, np.argmax(model_q_aware.predict(X_eval),axis=1))\n",
    "    \n",
    "    return model, q_eval_acc, size, cm\n",
    "        "
   ]
  },
  {
   "cell_type": "markdown",
   "metadata": {},
   "source": [
    "# Eval: Train a Model"
   ]
  },
  {
   "cell_type": "code",
   "execution_count": 105,
   "metadata": {},
   "outputs": [
    {
     "name": "stdout",
     "output_type": "stream",
     "text": [
      "Loading training data...\n",
      "Loading eval data...\n",
      "Training set: 59699 samples\n",
      "Eval set: 11440 samples\n",
      "Manipulating training data...\n",
      "{'shopping', 'street', 'office', 'restaurant', 'transport', 'home', 'nature'}\n",
      "shopping: 2887\n",
      "street: 2468\n",
      "office: 14685\n",
      "restaurant: 4252\n",
      "transport: 7306\n",
      "home: 22521\n",
      "nature: 2036\n",
      "Manipulating eval data...\n",
      "{'shopping', 'street', 'office', 'restaurant', 'transport', 'home', 'nature'}\n",
      "shopping: 1233\n",
      "street: 1296\n",
      "office: 1800\n",
      "restaurant: 1648\n",
      "transport: 1427\n",
      "home: 2669\n",
      "nature: 1367\n",
      "equalizing Eval set (all classes have the same number of samples, based on the smallest class)\n"
     ]
    },
    {
     "name": "stderr",
     "output_type": "stream",
     "text": [
      "/var/folders/_d/yk2w7ch52gz5ql9wl0ys0vmh0000gn/T/ipykernel_97593/3800266543.py:5: DeprecationWarning: The truth value of an empty array is ambiguous. Returning False, but in future this will result in an error. Use `array.size > 0` to check that an array is not empty.\n",
      "  classes.remove(remove_class)\n"
     ]
    }
   ],
   "source": [
    "prepared = prepare_datasets(train_set_path, test_set_path, without_services=True, verbose=True)\n",
    "\n",
    "(X_train,Y_train) = prepared['training']\n",
    "(X_eval, Y_eval) = prepared['eval']\n",
    "labels = prepared['labels']\n",
    "feature_mean = prepared['feature_mean']\n",
    "feature_std = prepared['feature_std']\n",
    "feature_std = np.maximum(feature_std, 1.0)\n",
    "features = prepared['features']\n",
    "\n",
    "# X_test = keep_n_scans(X_test, num_scans=1)\n",
    "# X_eval = keep_n_scans(X_eval, num_scans=1)"
   ]
  },
  {
   "cell_type": "code",
   "execution_count": null,
   "metadata": {},
   "outputs": [],
   "source": [
    "#X_eval,Y_eval = equalize_class_distribution(X_eval, Y_eval)"
   ]
  },
  {
   "cell_type": "code",
   "execution_count": null,
   "metadata": {},
   "outputs": [],
   "source": []
  },
  {
   "cell_type": "code",
   "execution_count": 107,
   "metadata": {},
   "outputs": [
    {
     "name": "stdout",
     "output_type": "stream",
     "text": [
      "Evaluating quantize-aware model on unseen data:\n",
      "270/270 [==============================] - 0s 483us/step - loss: 0.7511 - sparse_categorical_accuracy: 0.7404\n",
      "\n",
      "\n",
      "Size: 2752\n"
     ]
    },
    {
     "name": "stderr",
     "output_type": "stream",
     "text": [
      "fully_quantize: 0, inference_type: 6, input_inference_type: 0, output_inference_type: 0\n"
     ]
    }
   ],
   "source": [
    "best_model = None\n",
    "best_acc = 0.0\n",
    "for i in range(15):\n",
    "    # Create test split\n",
    "    X_train_split, X_test, Y_train_split, Y_test = train_test_split(X_train, Y_train, test_size=0.1)\n",
    "    # Create and eval model\n",
    "    model,acc, _, _ = eval_model(X_train_split,\n",
    "               Y_train_split,\n",
    "               X_test,\n",
    "               Y_test,\n",
    "               X_eval,\n",
    "               Y_eval,\n",
    "               labels,\n",
    "               feature_mean,\n",
    "               feature_std,\n",
    "               features,\n",
    "               verbose=0,\n",
    "               quantize_model=True,\n",
    "              )\n",
    "    if acc > best_acc:\n",
    "        best_model = model"
   ]
  },
  {
   "cell_type": "code",
   "execution_count": 108,
   "metadata": {},
   "outputs": [
    {
     "name": "stdout",
     "output_type": "stream",
     "text": [
      "270/270 [==============================] - 0s 421us/step - loss: 0.6558 - sparse_categorical_accuracy: 0.7965\n"
     ]
    },
    {
     "name": "stderr",
     "output_type": "stream",
     "text": [
      "fully_quantize: 0, inference_type: 6, input_inference_type: 0, output_inference_type: 0\n"
     ]
    }
   ],
   "source": [
    "best_model.evaluate(X_eval,Y_eval)\n",
    "export_model(best_model,\"models/blueseer_model.cc\",feature_mean,feature_std,labels,X_train)\n",
    "# export_model(best_model,\"models/shitty_model.cc\",feature_mean,feature_std,labels,X_train)\n",
    "\n"
   ]
  },
  {
   "cell_type": "markdown",
   "metadata": {},
   "source": [
    "# Eval: Number of scans within a sliding window"
   ]
  },
  {
   "cell_type": "code",
   "execution_count": 16,
   "metadata": {},
   "outputs": [],
   "source": [
    "NUM_SCANS = np.array([1,2,3,4,5])"
   ]
  },
  {
   "cell_type": "code",
   "execution_count": 17,
   "metadata": {},
   "outputs": [
    {
     "name": "stdout",
     "output_type": "stream",
     "text": [
      "Loading training data...\n",
      "Loading eval data...\n",
      "Training set: 59699 samples\n",
      "Eval set: 11440 samples\n",
      "Manipulating training data...\n",
      "{'shopping', 'street', 'office', 'restaurant', 'transport', 'home', 'nature'}\n",
      "shopping: 2887\n",
      "street: 2468\n",
      "office: 14685\n",
      "restaurant: 4252\n",
      "transport: 7306\n",
      "home: 22521\n",
      "nature: 2036\n",
      "Manipulating eval data...\n",
      "{'shopping', 'street', 'office', 'restaurant', 'transport', 'home', 'nature'}\n",
      "shopping: 1233\n",
      "street: 1296\n",
      "office: 1800\n",
      "restaurant: 1648\n",
      "transport: 1427\n",
      "home: 2669\n",
      "nature: 1367\n",
      "equalizing Eval set (all classes have the same number of samples, based on the smallest class)\n"
     ]
    },
    {
     "name": "stderr",
     "output_type": "stream",
     "text": [
      "/var/folders/_d/yk2w7ch52gz5ql9wl0ys0vmh0000gn/T/ipykernel_97593/3800266543.py:5: DeprecationWarning: The truth value of an empty array is ambiguous. Returning False, but in future this will result in an error. Use `array.size > 0` to check that an array is not empty.\n",
      "  classes.remove(remove_class)\n"
     ]
    },
    {
     "name": "stdout",
     "output_type": "stream",
     "text": [
      "\n",
      "\n",
      "Evaluating 1 scans in input\n",
      "Evaluating quantize-aware model on unseen data:\n",
      "270/270 [==============================] - 0s 556us/step - loss: 0.5427 - sparse_categorical_accuracy: 0.8186\n",
      "\n",
      "\n"
     ]
    },
    {
     "name": "stderr",
     "output_type": "stream",
     "text": [
      "fully_quantize: 0, inference_type: 6, input_inference_type: 0, output_inference_type: 0\n"
     ]
    },
    {
     "name": "stdout",
     "output_type": "stream",
     "text": [
      "Size: 19432\n",
      "Evaluating quantize-aware model on unseen data:\n",
      "270/270 [==============================] - 0s 558us/step - loss: 0.5545 - sparse_categorical_accuracy: 0.8174\n",
      "\n",
      "\n"
     ]
    },
    {
     "name": "stderr",
     "output_type": "stream",
     "text": [
      "fully_quantize: 0, inference_type: 6, input_inference_type: 0, output_inference_type: 0\n"
     ]
    },
    {
     "name": "stdout",
     "output_type": "stream",
     "text": [
      "Size: 19488\n",
      "Evaluating quantize-aware model on unseen data:\n",
      "270/270 [==============================] - 0s 573us/step - loss: 0.5505 - sparse_categorical_accuracy: 0.8139\n",
      "\n",
      "\n"
     ]
    },
    {
     "name": "stderr",
     "output_type": "stream",
     "text": [
      "fully_quantize: 0, inference_type: 6, input_inference_type: 0, output_inference_type: 0\n"
     ]
    },
    {
     "name": "stdout",
     "output_type": "stream",
     "text": [
      "Size: 19488\n",
      "Evaluating quantize-aware model on unseen data:\n",
      "270/270 [==============================] - 0s 596us/step - loss: 0.5675 - sparse_categorical_accuracy: 0.8173\n",
      "\n",
      "\n"
     ]
    },
    {
     "name": "stderr",
     "output_type": "stream",
     "text": [
      "fully_quantize: 0, inference_type: 6, input_inference_type: 0, output_inference_type: 0\n"
     ]
    },
    {
     "name": "stdout",
     "output_type": "stream",
     "text": [
      "Size: 19488\n",
      "Evaluating quantize-aware model on unseen data:\n",
      "270/270 [==============================] - 0s 558us/step - loss: 0.5330 - sparse_categorical_accuracy: 0.8231\n",
      "\n",
      "\n"
     ]
    },
    {
     "name": "stderr",
     "output_type": "stream",
     "text": [
      "fully_quantize: 0, inference_type: 6, input_inference_type: 0, output_inference_type: 0\n"
     ]
    },
    {
     "name": "stdout",
     "output_type": "stream",
     "text": [
      "Size: 19488\n",
      "Evaluating quantize-aware model on unseen data:\n",
      "270/270 [==============================] - 0s 570us/step - loss: 0.5604 - sparse_categorical_accuracy: 0.8167\n",
      "\n",
      "\n"
     ]
    },
    {
     "name": "stderr",
     "output_type": "stream",
     "text": [
      "fully_quantize: 0, inference_type: 6, input_inference_type: 0, output_inference_type: 0\n"
     ]
    },
    {
     "name": "stdout",
     "output_type": "stream",
     "text": [
      "Size: 19488\n",
      "Evaluating quantize-aware model on unseen data:\n",
      "270/270 [==============================] - 0s 585us/step - loss: 0.5360 - sparse_categorical_accuracy: 0.8188\n",
      "\n",
      "\n"
     ]
    },
    {
     "name": "stderr",
     "output_type": "stream",
     "text": [
      "fully_quantize: 0, inference_type: 6, input_inference_type: 0, output_inference_type: 0\n"
     ]
    },
    {
     "name": "stdout",
     "output_type": "stream",
     "text": [
      "Size: 19488\n",
      "Evaluating quantize-aware model on unseen data:\n",
      "270/270 [==============================] - 0s 550us/step - loss: 0.5706 - sparse_categorical_accuracy: 0.8133\n",
      "\n",
      "\n"
     ]
    },
    {
     "name": "stderr",
     "output_type": "stream",
     "text": [
      "fully_quantize: 0, inference_type: 6, input_inference_type: 0, output_inference_type: 0\n"
     ]
    },
    {
     "name": "stdout",
     "output_type": "stream",
     "text": [
      "Size: 19488\n",
      "Evaluating quantize-aware model on unseen data:\n",
      "270/270 [==============================] - 0s 556us/step - loss: 0.5342 - sparse_categorical_accuracy: 0.8271\n",
      "\n",
      "\n"
     ]
    },
    {
     "name": "stderr",
     "output_type": "stream",
     "text": [
      "fully_quantize: 0, inference_type: 6, input_inference_type: 0, output_inference_type: 0\n"
     ]
    },
    {
     "name": "stdout",
     "output_type": "stream",
     "text": [
      "Size: 19488\n",
      "Evaluating quantize-aware model on unseen data:\n",
      "270/270 [==============================] - 0s 555us/step - loss: 0.5307 - sparse_categorical_accuracy: 0.8166\n",
      "\n",
      "\n"
     ]
    },
    {
     "name": "stderr",
     "output_type": "stream",
     "text": [
      "fully_quantize: 0, inference_type: 6, input_inference_type: 0, output_inference_type: 0\n"
     ]
    },
    {
     "name": "stdout",
     "output_type": "stream",
     "text": [
      "Size: 19488\n",
      "\n",
      "\n",
      "Evaluating 2 scans in input\n",
      "Evaluating quantize-aware model on unseen data:\n",
      "270/270 [==============================] - 0s 555us/step - loss: 0.6773 - sparse_categorical_accuracy: 0.7996\n",
      "\n",
      "\n"
     ]
    },
    {
     "name": "stderr",
     "output_type": "stream",
     "text": [
      "fully_quantize: 0, inference_type: 6, input_inference_type: 0, output_inference_type: 0\n"
     ]
    },
    {
     "name": "stdout",
     "output_type": "stream",
     "text": [
      "Size: 31024\n",
      "Evaluating quantize-aware model on unseen data:\n",
      "270/270 [==============================] - 0s 558us/step - loss: 0.6546 - sparse_categorical_accuracy: 0.8032\n",
      "\n",
      "\n"
     ]
    },
    {
     "name": "stderr",
     "output_type": "stream",
     "text": [
      "fully_quantize: 0, inference_type: 6, input_inference_type: 0, output_inference_type: 0\n"
     ]
    },
    {
     "name": "stdout",
     "output_type": "stream",
     "text": [
      "Size: 31024\n",
      "Evaluating quantize-aware model on unseen data:\n",
      "270/270 [==============================] - 0s 562us/step - loss: 0.5808 - sparse_categorical_accuracy: 0.8290\n",
      "\n",
      "\n"
     ]
    },
    {
     "name": "stderr",
     "output_type": "stream",
     "text": [
      "fully_quantize: 0, inference_type: 6, input_inference_type: 0, output_inference_type: 0\n"
     ]
    },
    {
     "name": "stdout",
     "output_type": "stream",
     "text": [
      "Size: 31024\n",
      "Evaluating quantize-aware model on unseen data:\n",
      "270/270 [==============================] - 0s 565us/step - loss: 0.6349 - sparse_categorical_accuracy: 0.8099\n",
      "\n",
      "\n"
     ]
    },
    {
     "name": "stderr",
     "output_type": "stream",
     "text": [
      "fully_quantize: 0, inference_type: 6, input_inference_type: 0, output_inference_type: 0\n"
     ]
    },
    {
     "name": "stdout",
     "output_type": "stream",
     "text": [
      "Size: 31024\n",
      "Evaluating quantize-aware model on unseen data:\n",
      "270/270 [==============================] - 0s 558us/step - loss: 0.6790 - sparse_categorical_accuracy: 0.7978\n",
      "\n",
      "\n"
     ]
    },
    {
     "name": "stderr",
     "output_type": "stream",
     "text": [
      "fully_quantize: 0, inference_type: 6, input_inference_type: 0, output_inference_type: 0\n"
     ]
    },
    {
     "name": "stdout",
     "output_type": "stream",
     "text": [
      "Size: 31024\n",
      "Evaluating quantize-aware model on unseen data:\n",
      "270/270 [==============================] - 0s 556us/step - loss: 0.5579 - sparse_categorical_accuracy: 0.8269\n",
      "\n",
      "\n"
     ]
    },
    {
     "name": "stderr",
     "output_type": "stream",
     "text": [
      "fully_quantize: 0, inference_type: 6, input_inference_type: 0, output_inference_type: 0\n"
     ]
    },
    {
     "name": "stdout",
     "output_type": "stream",
     "text": [
      "Size: 31024\n",
      "Evaluating quantize-aware model on unseen data:\n",
      "270/270 [==============================] - 0s 545us/step - loss: 0.6698 - sparse_categorical_accuracy: 0.8062\n",
      "\n",
      "\n"
     ]
    },
    {
     "name": "stderr",
     "output_type": "stream",
     "text": [
      "fully_quantize: 0, inference_type: 6, input_inference_type: 0, output_inference_type: 0\n"
     ]
    },
    {
     "name": "stdout",
     "output_type": "stream",
     "text": [
      "Size: 31024\n",
      "Evaluating quantize-aware model on unseen data:\n",
      "270/270 [==============================] - 0s 568us/step - loss: 0.6457 - sparse_categorical_accuracy: 0.8084\n",
      "\n",
      "\n"
     ]
    },
    {
     "name": "stderr",
     "output_type": "stream",
     "text": [
      "fully_quantize: 0, inference_type: 6, input_inference_type: 0, output_inference_type: 0\n"
     ]
    },
    {
     "name": "stdout",
     "output_type": "stream",
     "text": [
      "Size: 31024\n",
      "Evaluating quantize-aware model on unseen data:\n",
      "270/270 [==============================] - 0s 564us/step - loss: 0.6386 - sparse_categorical_accuracy: 0.8043\n",
      "\n",
      "\n"
     ]
    },
    {
     "name": "stderr",
     "output_type": "stream",
     "text": [
      "fully_quantize: 0, inference_type: 6, input_inference_type: 0, output_inference_type: 0\n"
     ]
    },
    {
     "name": "stdout",
     "output_type": "stream",
     "text": [
      "Size: 31024\n",
      "Evaluating quantize-aware model on unseen data:\n",
      "270/270 [==============================] - 0s 557us/step - loss: 0.6178 - sparse_categorical_accuracy: 0.8087\n",
      "\n",
      "\n"
     ]
    },
    {
     "name": "stderr",
     "output_type": "stream",
     "text": [
      "fully_quantize: 0, inference_type: 6, input_inference_type: 0, output_inference_type: 0\n"
     ]
    },
    {
     "name": "stdout",
     "output_type": "stream",
     "text": [
      "Size: 31024\n",
      "\n",
      "\n",
      "Evaluating 3 scans in input\n",
      "Evaluating quantize-aware model on unseen data:\n",
      "270/270 [==============================] - 0s 647us/step - loss: 0.7295 - sparse_categorical_accuracy: 0.8045\n",
      "\n",
      "\n"
     ]
    },
    {
     "name": "stderr",
     "output_type": "stream",
     "text": [
      "fully_quantize: 0, inference_type: 6, input_inference_type: 0, output_inference_type: 0\n"
     ]
    },
    {
     "name": "stdout",
     "output_type": "stream",
     "text": [
      "Size: 42520\n",
      "Evaluating quantize-aware model on unseen data:\n",
      "270/270 [==============================] - 0s 603us/step - loss: 0.6671 - sparse_categorical_accuracy: 0.8139\n",
      "\n",
      "\n"
     ]
    },
    {
     "name": "stderr",
     "output_type": "stream",
     "text": [
      "fully_quantize: 0, inference_type: 6, input_inference_type: 0, output_inference_type: 0\n"
     ]
    },
    {
     "name": "stdout",
     "output_type": "stream",
     "text": [
      "Size: 42520\n",
      "Evaluating quantize-aware model on unseen data:\n",
      "270/270 [==============================] - 0s 615us/step - loss: 0.6910 - sparse_categorical_accuracy: 0.8099\n",
      "\n",
      "\n"
     ]
    },
    {
     "name": "stderr",
     "output_type": "stream",
     "text": [
      "fully_quantize: 0, inference_type: 6, input_inference_type: 0, output_inference_type: 0\n"
     ]
    },
    {
     "name": "stdout",
     "output_type": "stream",
     "text": [
      "Size: 42520\n",
      "Evaluating quantize-aware model on unseen data:\n",
      "270/270 [==============================] - 0s 597us/step - loss: 0.7286 - sparse_categorical_accuracy: 0.8038\n",
      "\n",
      "\n"
     ]
    },
    {
     "name": "stderr",
     "output_type": "stream",
     "text": [
      "fully_quantize: 0, inference_type: 6, input_inference_type: 0, output_inference_type: 0\n"
     ]
    },
    {
     "name": "stdout",
     "output_type": "stream",
     "text": [
      "Size: 42520\n",
      "Evaluating quantize-aware model on unseen data:\n",
      "270/270 [==============================] - 0s 599us/step - loss: 0.6750 - sparse_categorical_accuracy: 0.8174\n",
      "\n",
      "\n"
     ]
    },
    {
     "name": "stderr",
     "output_type": "stream",
     "text": [
      "fully_quantize: 0, inference_type: 6, input_inference_type: 0, output_inference_type: 0\n"
     ]
    },
    {
     "name": "stdout",
     "output_type": "stream",
     "text": [
      "Size: 42520\n",
      "Evaluating quantize-aware model on unseen data:\n",
      "270/270 [==============================] - 0s 602us/step - loss: 0.6633 - sparse_categorical_accuracy: 0.8202\n",
      "\n",
      "\n"
     ]
    },
    {
     "name": "stderr",
     "output_type": "stream",
     "text": [
      "fully_quantize: 0, inference_type: 6, input_inference_type: 0, output_inference_type: 0\n"
     ]
    },
    {
     "name": "stdout",
     "output_type": "stream",
     "text": [
      "Size: 42520\n",
      "Evaluating quantize-aware model on unseen data:\n",
      "270/270 [==============================] - 0s 602us/step - loss: 0.6449 - sparse_categorical_accuracy: 0.8216\n",
      "\n",
      "\n"
     ]
    },
    {
     "name": "stderr",
     "output_type": "stream",
     "text": [
      "fully_quantize: 0, inference_type: 6, input_inference_type: 0, output_inference_type: 0\n"
     ]
    },
    {
     "name": "stdout",
     "output_type": "stream",
     "text": [
      "Size: 42520\n",
      "Evaluating quantize-aware model on unseen data:\n",
      "270/270 [==============================] - 0s 593us/step - loss: 0.6985 - sparse_categorical_accuracy: 0.8130\n",
      "\n",
      "\n"
     ]
    },
    {
     "name": "stderr",
     "output_type": "stream",
     "text": [
      "fully_quantize: 0, inference_type: 6, input_inference_type: 0, output_inference_type: 0\n"
     ]
    },
    {
     "name": "stdout",
     "output_type": "stream",
     "text": [
      "Size: 42520\n",
      "Evaluating quantize-aware model on unseen data:\n",
      "270/270 [==============================] - 0s 591us/step - loss: 0.6910 - sparse_categorical_accuracy: 0.8142\n",
      "\n",
      "\n"
     ]
    },
    {
     "name": "stderr",
     "output_type": "stream",
     "text": [
      "fully_quantize: 0, inference_type: 6, input_inference_type: 0, output_inference_type: 0\n"
     ]
    },
    {
     "name": "stdout",
     "output_type": "stream",
     "text": [
      "Size: 42520\n",
      "Evaluating quantize-aware model on unseen data:\n",
      "270/270 [==============================] - 0s 596us/step - loss: 0.6716 - sparse_categorical_accuracy: 0.8200\n",
      "\n",
      "\n"
     ]
    },
    {
     "name": "stderr",
     "output_type": "stream",
     "text": [
      "fully_quantize: 0, inference_type: 6, input_inference_type: 0, output_inference_type: 0\n"
     ]
    },
    {
     "name": "stdout",
     "output_type": "stream",
     "text": [
      "Size: 42520\n",
      "\n",
      "\n",
      "Evaluating 4 scans in input\n",
      "Evaluating quantize-aware model on unseen data:\n",
      "270/270 [==============================] - 0s 757us/step - loss: 0.7246 - sparse_categorical_accuracy: 0.8317\n",
      "\n",
      "\n"
     ]
    },
    {
     "name": "stderr",
     "output_type": "stream",
     "text": [
      "fully_quantize: 0, inference_type: 6, input_inference_type: 0, output_inference_type: 0\n"
     ]
    },
    {
     "name": "stdout",
     "output_type": "stream",
     "text": [
      "Size: 54024\n",
      "Evaluating quantize-aware model on unseen data:\n",
      "270/270 [==============================] - 0s 606us/step - loss: 0.6644 - sparse_categorical_accuracy: 0.8248\n",
      "\n",
      "\n"
     ]
    },
    {
     "name": "stderr",
     "output_type": "stream",
     "text": [
      "fully_quantize: 0, inference_type: 6, input_inference_type: 0, output_inference_type: 0\n"
     ]
    },
    {
     "name": "stdout",
     "output_type": "stream",
     "text": [
      "Size: 54024\n",
      "Evaluating quantize-aware model on unseen data:\n",
      "270/270 [==============================] - 0s 612us/step - loss: 0.6998 - sparse_categorical_accuracy: 0.8277\n",
      "\n",
      "\n"
     ]
    },
    {
     "name": "stderr",
     "output_type": "stream",
     "text": [
      "fully_quantize: 0, inference_type: 6, input_inference_type: 0, output_inference_type: 0\n"
     ]
    },
    {
     "name": "stdout",
     "output_type": "stream",
     "text": [
      "Size: 54024\n",
      "Evaluating quantize-aware model on unseen data:\n",
      "270/270 [==============================] - 0s 603us/step - loss: 0.6915 - sparse_categorical_accuracy: 0.8242\n",
      "\n",
      "\n"
     ]
    },
    {
     "name": "stderr",
     "output_type": "stream",
     "text": [
      "fully_quantize: 0, inference_type: 6, input_inference_type: 0, output_inference_type: 0\n"
     ]
    },
    {
     "name": "stdout",
     "output_type": "stream",
     "text": [
      "Size: 54024\n",
      "Evaluating quantize-aware model on unseen data:\n",
      "270/270 [==============================] - 0s 611us/step - loss: 0.7299 - sparse_categorical_accuracy: 0.8254\n",
      "\n",
      "\n"
     ]
    },
    {
     "name": "stderr",
     "output_type": "stream",
     "text": [
      "fully_quantize: 0, inference_type: 6, input_inference_type: 0, output_inference_type: 0\n"
     ]
    },
    {
     "name": "stdout",
     "output_type": "stream",
     "text": [
      "Size: 54024\n",
      "Evaluating quantize-aware model on unseen data:\n",
      "270/270 [==============================] - 0s 610us/step - loss: 0.6967 - sparse_categorical_accuracy: 0.8341\n",
      "\n",
      "\n"
     ]
    },
    {
     "name": "stderr",
     "output_type": "stream",
     "text": [
      "fully_quantize: 0, inference_type: 6, input_inference_type: 0, output_inference_type: 0\n"
     ]
    },
    {
     "name": "stdout",
     "output_type": "stream",
     "text": [
      "Size: 54024\n",
      "Evaluating quantize-aware model on unseen data:\n",
      "270/270 [==============================] - 0s 612us/step - loss: 0.7607 - sparse_categorical_accuracy: 0.8241\n",
      "\n",
      "\n"
     ]
    },
    {
     "name": "stderr",
     "output_type": "stream",
     "text": [
      "fully_quantize: 0, inference_type: 6, input_inference_type: 0, output_inference_type: 0\n"
     ]
    },
    {
     "name": "stdout",
     "output_type": "stream",
     "text": [
      "Size: 54024\n",
      "Evaluating quantize-aware model on unseen data:\n",
      "270/270 [==============================] - 0s 604us/step - loss: 0.6499 - sparse_categorical_accuracy: 0.8342\n",
      "\n",
      "\n"
     ]
    },
    {
     "name": "stderr",
     "output_type": "stream",
     "text": [
      "fully_quantize: 0, inference_type: 6, input_inference_type: 0, output_inference_type: 0\n"
     ]
    },
    {
     "name": "stdout",
     "output_type": "stream",
     "text": [
      "Size: 54024\n",
      "Evaluating quantize-aware model on unseen data:\n",
      "270/270 [==============================] - 0s 601us/step - loss: 0.6846 - sparse_categorical_accuracy: 0.8226\n",
      "\n",
      "\n"
     ]
    },
    {
     "name": "stderr",
     "output_type": "stream",
     "text": [
      "fully_quantize: 0, inference_type: 6, input_inference_type: 0, output_inference_type: 0\n"
     ]
    },
    {
     "name": "stdout",
     "output_type": "stream",
     "text": [
      "Size: 54024\n",
      "Evaluating quantize-aware model on unseen data:\n",
      "270/270 [==============================] - 0s 588us/step - loss: 0.7185 - sparse_categorical_accuracy: 0.8186\n",
      "\n",
      "\n"
     ]
    },
    {
     "name": "stderr",
     "output_type": "stream",
     "text": [
      "fully_quantize: 0, inference_type: 6, input_inference_type: 0, output_inference_type: 0\n"
     ]
    },
    {
     "name": "stdout",
     "output_type": "stream",
     "text": [
      "Size: 54024\n",
      "\n",
      "\n",
      "Evaluating 5 scans in input\n",
      "Evaluating quantize-aware model on unseen data:\n",
      "270/270 [==============================] - 0s 622us/step - loss: 0.8044 - sparse_categorical_accuracy: 0.8289\n",
      "\n",
      "\n"
     ]
    },
    {
     "name": "stderr",
     "output_type": "stream",
     "text": [
      "fully_quantize: 0, inference_type: 6, input_inference_type: 0, output_inference_type: 0\n"
     ]
    },
    {
     "name": "stdout",
     "output_type": "stream",
     "text": [
      "Size: 65520\n",
      "Evaluating quantize-aware model on unseen data:\n",
      "270/270 [==============================] - 0s 601us/step - loss: 0.7484 - sparse_categorical_accuracy: 0.8303\n",
      "\n",
      "\n"
     ]
    },
    {
     "name": "stderr",
     "output_type": "stream",
     "text": [
      "fully_quantize: 0, inference_type: 6, input_inference_type: 0, output_inference_type: 0\n"
     ]
    },
    {
     "name": "stdout",
     "output_type": "stream",
     "text": [
      "Size: 65520\n",
      "Evaluating quantize-aware model on unseen data:\n",
      "270/270 [==============================] - 0s 614us/step - loss: 0.7973 - sparse_categorical_accuracy: 0.8355\n",
      "\n",
      "\n"
     ]
    },
    {
     "name": "stderr",
     "output_type": "stream",
     "text": [
      "fully_quantize: 0, inference_type: 6, input_inference_type: 0, output_inference_type: 0\n"
     ]
    },
    {
     "name": "stdout",
     "output_type": "stream",
     "text": [
      "Size: 65520\n",
      "Evaluating quantize-aware model on unseen data:\n",
      "270/270 [==============================] - 0s 613us/step - loss: 0.7954 - sparse_categorical_accuracy: 0.8277\n",
      "\n",
      "\n"
     ]
    },
    {
     "name": "stderr",
     "output_type": "stream",
     "text": [
      "fully_quantize: 0, inference_type: 6, input_inference_type: 0, output_inference_type: 0\n"
     ]
    },
    {
     "name": "stdout",
     "output_type": "stream",
     "text": [
      "Size: 65520\n",
      "Evaluating quantize-aware model on unseen data:\n",
      "270/270 [==============================] - 0s 610us/step - loss: 0.7374 - sparse_categorical_accuracy: 0.8260\n",
      "\n",
      "\n"
     ]
    },
    {
     "name": "stderr",
     "output_type": "stream",
     "text": [
      "fully_quantize: 0, inference_type: 6, input_inference_type: 0, output_inference_type: 0\n"
     ]
    },
    {
     "name": "stdout",
     "output_type": "stream",
     "text": [
      "Size: 65520\n",
      "Evaluating quantize-aware model on unseen data:\n",
      "270/270 [==============================] - 0s 609us/step - loss: 0.7610 - sparse_categorical_accuracy: 0.8354\n",
      "\n",
      "\n"
     ]
    },
    {
     "name": "stderr",
     "output_type": "stream",
     "text": [
      "fully_quantize: 0, inference_type: 6, input_inference_type: 0, output_inference_type: 0\n"
     ]
    },
    {
     "name": "stdout",
     "output_type": "stream",
     "text": [
      "Size: 65520\n",
      "Evaluating quantize-aware model on unseen data:\n",
      "270/270 [==============================] - 0s 607us/step - loss: 0.7019 - sparse_categorical_accuracy: 0.8392\n",
      "\n",
      "\n"
     ]
    },
    {
     "name": "stderr",
     "output_type": "stream",
     "text": [
      "fully_quantize: 0, inference_type: 6, input_inference_type: 0, output_inference_type: 0\n"
     ]
    },
    {
     "name": "stdout",
     "output_type": "stream",
     "text": [
      "Size: 65520\n",
      "Evaluating quantize-aware model on unseen data:\n",
      "270/270 [==============================] - 0s 628us/step - loss: 0.8303 - sparse_categorical_accuracy: 0.8266\n",
      "\n",
      "\n"
     ]
    },
    {
     "name": "stderr",
     "output_type": "stream",
     "text": [
      "fully_quantize: 0, inference_type: 6, input_inference_type: 0, output_inference_type: 0\n"
     ]
    },
    {
     "name": "stdout",
     "output_type": "stream",
     "text": [
      "Size: 65520\n",
      "Evaluating quantize-aware model on unseen data:\n",
      "270/270 [==============================] - 0s 647us/step - loss: 0.7583 - sparse_categorical_accuracy: 0.8303\n",
      "\n",
      "\n"
     ]
    },
    {
     "name": "stderr",
     "output_type": "stream",
     "text": [
      "fully_quantize: 0, inference_type: 6, input_inference_type: 0, output_inference_type: 0\n"
     ]
    },
    {
     "name": "stdout",
     "output_type": "stream",
     "text": [
      "Size: 65520\n",
      "Evaluating quantize-aware model on unseen data:\n",
      "270/270 [==============================] - 0s 662us/step - loss: 0.7431 - sparse_categorical_accuracy: 0.8362\n",
      "\n",
      "\n",
      "Size: 65520\n"
     ]
    },
    {
     "name": "stderr",
     "output_type": "stream",
     "text": [
      "fully_quantize: 0, inference_type: 6, input_inference_type: 0, output_inference_type: 0\n"
     ]
    }
   ],
   "source": [
    "accuracies_num_scans = []\n",
    "sizes_num_scans = []\n",
    "cm_num_scans = []\n",
    "\n",
    "prepared = prepare_datasets(train_set_path, test_set_path, verbose=True)\n",
    "(X_train,Y_train) = prepared['training']\n",
    "(X_eval, Y_eval) = prepared['eval']\n",
    "labels = prepared['labels']\n",
    "feature_mean = prepared['feature_mean']\n",
    "feature_std = prepared['feature_std']\n",
    "features = prepared['features']\n",
    "\n",
    "for num_scan in NUM_SCANS:\n",
    "    accuracies_num_scans.append([])\n",
    "    sizes_num_scans.append([])\n",
    "    cm_num_scans.append([])\n",
    "    print(f\"\\n\\nEvaluating {num_scan} scans in input\")\n",
    "    for num_model in range(10):\n",
    "        (X_train,Y_train) = prepared['training']\n",
    "        (X_eval, Y_eval) = prepared['eval']\n",
    "        # Create test split\n",
    "        X_train_split, X_test, Y_train_split, Y_test = train_test_split(X_train,Y_train,test_size=0.1)\n",
    "        X_train_split = keep_n_scans(X_train_split, num_scans=num_scan)\n",
    "        X_test = keep_n_scans(X_test, num_scans=num_scan)\n",
    "        X_eval = keep_n_scans(X_eval, num_scans=num_scan)\n",
    "        # Create and eval model\n",
    "        model, acc, size, cm = eval_model(X_train_split,\n",
    "                   Y_train_split,\n",
    "                   X_test,\n",
    "                   Y_test,\n",
    "                   X_eval,\n",
    "                   Y_eval,\n",
    "                   labels,\n",
    "                   feature_mean,\n",
    "                   feature_std,\n",
    "                   features,\n",
    "                   verbose=0,\n",
    "                   quantize_model=True,\n",
    "                   layers=[500],\n",
    "                  )\n",
    "        accuracies_num_scans[-1].append(acc)\n",
    "        sizes_num_scans[-1].append(size)\n",
    "        cm_num_scans[-1].append(cm)\n",
    "accuracies_num_scans = np.array(accuracies_num_scans)\n",
    "sizes_num_scans = np.array(sizes_num_scans)\n",
    "cm_num_scans = np.array(cm_num_scans)"
   ]
  },
  {
   "cell_type": "code",
   "execution_count": 89,
   "metadata": {},
   "outputs": [
    {
     "data": {
      "image/png": "[encoded data removed]",
      "text/plain": [
       "<Figure size 194.4x216 with 2 Axes>"
      ]
     },
     "metadata": {
      "needs_background": "light"
     },
     "output_type": "display_data"
    }
   ],
   "source": [
    "fig,ax = plt.subplots(2,1, figsize=(2.7,3), sharex=True)\n",
    "ax[0].set_axisbelow(True)\n",
    "ax[1].set_axisbelow(True)\n",
    "\n",
    "x_axis = (NUM_SCANS)*0.6\n",
    "\n",
    "# Extract accuracy for dynamic environments\n",
    "if cm_num_scans is not None:\n",
    "    cm = cm_num_scans.copy()\n",
    "    cm = np.max(cm,axis=-1)/1233\n",
    "    dynenvs = np.zeros((5,10))\n",
    "    # dynamic envs\n",
    "    dynenvs[:,:] = (cm[:,:,0]+cm[:,:,1]+cm[:,:,3]+cm[:,:,4]+cm[:,:,6])/5\n",
    "\n",
    "ax[0].bar(x_axis-0.125,\n",
    "       np.nanmean(dynenvs,axis=-1)*100,\n",
    "       yerr=np.nanstd(dynenvs,axis=-1)*100,\n",
    "       width=0.2,\n",
    "       capsize=3,\n",
    "       linewidth=0.8,\n",
    "       edgecolor='black',\n",
    "       color='#e17055'\n",
    "       )\n",
    "\n",
    "ax[0].bar(x_axis+0.125,\n",
    "       np.nanmean(accuracies_num_scans,axis=-1)*100,\n",
    "       yerr=np.nanstd(accuracies_num_scans,axis=-1)*100,\n",
    "       width=0.2,\n",
    "       capsize=3,\n",
    "       linewidth=0.8,\n",
    "       edgecolor='black',\n",
    "       color='#0984e3'\n",
    "       )\n",
    "\n",
    "ax[0].grid(axis='y',linestyle='dashed')\n",
    "ax[0].axis([0,3,70,85])\n",
    "\n",
    "ax[0].set_yticks([70,75,80,85])\n",
    "ax[0].set_ylabel(\"Accuracy [%]\")\n",
    "\n",
    "\n",
    "\n",
    "ax[1].bar(x_axis,\n",
    "       np.nanmean(sizes_num_scans,axis=-1)/1000,\n",
    "       yerr=np.nanstd(sizes_num_scans,axis=-1)/1000,\n",
    "       width=0.3,\n",
    "       capsize=5,\n",
    "       linewidth=0.8,\n",
    "       edgecolor='black',\n",
    "       color='#0984e3'\n",
    "       )\n",
    "\n",
    "ax[1].grid(axis='y',linestyle='dashed')\n",
    "ax[1].axis([0.3,3.3,0,80])\n",
    "\n",
    "#ax[1].set_yticks([75,77.5,80,82.5,85])\n",
    "ax[1].set_xticks(x_axis)\n",
    "ax[1].set_xticklabels(range(1,6))\n",
    "ax[1].set_xlabel(\"BLE Scans in Input\")\n",
    "\n",
    "ax[1].set_ylabel(\"Memory usage [KB]\")\n",
    "\n",
    "ax[0].legend(['Dynamic env.', 'All env.'],\n",
    "             bbox_to_anchor=(1, 1.35),\n",
    "             loc=\"upper right\",\n",
    "             ncol=2,\n",
    "             framealpha=0,\n",
    "            )\n",
    "\n",
    "plt.tight_layout()\n",
    "plt.subplots_adjust(hspace=0.13)\n",
    "\n",
    "matplotlib.rcParams.update({'font.size': 9})\n",
    "\n",
    "plt.savefig('figures/num_scans_in_input.pdf', bbox_inches='tight', transparent=True)"
   ]
  },
  {
   "cell_type": "code",
   "execution_count": 91,
   "metadata": {},
   "outputs": [],
   "source": [
    "cm = cm_num_scans.copy()\n",
    "cm = np.max(cm,axis=-1)/1233*100"
   ]
  },
  {
   "cell_type": "code",
   "execution_count": 96,
   "metadata": {},
   "outputs": [
    {
     "data": {
      "text/plain": [
       "<matplotlib.legend.Legend at 0x19f131d00>"
      ]
     },
     "execution_count": 96,
     "metadata": {},
     "output_type": "execute_result"
    },
    {
     "data": {
      "image/png": "[encoded data removed]",
      "text/plain": [
       "<Figure size 432x288 with 1 Axes>"
      ]
     },
     "metadata": {
      "needs_background": "light"
     },
     "output_type": "display_data"
    }
   ],
   "source": [
    "plt.plot(np.nanmean(cm,axis=1),linewidth=2)\n",
    "plt.legend(labels)"
   ]
  },
  {
   "cell_type": "code",
   "execution_count": 99,
   "metadata": {},
   "outputs": [
    {
     "name": "stdout",
     "output_type": "stream",
     "text": [
      "shopping [73.24412003 67.67234388 69.06731549 68.23195458 70.1135442 ]\n",
      "street [86.56123277 82.85482563 82.44931062 85.29602595 85.52311436]\n",
      "office [99.32684509 99.06731549 99.09975669 99.18085969 99.38361719]\n",
      "restaurant [96.33414436 96.54501217 96.87753447 97.23438767 97.35604217]\n",
      "transport [57.62368208 53.81184104 54.64720195 57.12895377 57.23438767]\n",
      "home [95.53933496 95.50689376 95.75831306 97.16139497 98.13463098]\n",
      "nature [64.16869424 71.11111111 71.79237632 74.48499594 74.36334144]\n"
     ]
    }
   ],
   "source": [
    "for i in range(len(labels)):\n",
    "    print(labels[i],np.nanmean(cm,axis=1)[:,i])"
   ]
  },
  {
   "cell_type": "code",
   "execution_count": 37,
   "metadata": {},
   "outputs": [
    {
     "data": {
      "text/plain": [
       "array([76.80454177, 87.59124088, 99.35117599, 96.10705596, 55.87996756,\n",
       "       95.53933496, 61.71938362])"
      ]
     },
     "execution_count": 37,
     "metadata": {},
     "output_type": "execute_result"
    }
   ],
   "source": [
    "ddd[0,0]"
   ]
  },
  {
   "cell_type": "code",
   "execution_count": 29,
   "metadata": {},
   "outputs": [
    {
     "data": {
      "text/plain": [
       "['shopping', 'street', 'office', 'restaurant', 'transport', 'home', 'nature']"
      ]
     },
     "execution_count": 29,
     "metadata": {},
     "output_type": "execute_result"
    }
   ],
   "source": [
    "labels"
   ]
  },
  {
   "cell_type": "markdown",
   "metadata": {},
   "source": [
    "# Eval: Different Neural Network Architecture"
   ]
  },
  {
   "cell_type": "code",
   "execution_count": null,
   "metadata": {},
   "outputs": [],
   "source": [
    "architecture_to_test = [\n",
    "    [100],\n",
    "    [250],\n",
    "    [500],\n",
    "    [250,250],\n",
    "    [500,500],\n",
    "    [250,250,250],\n",
    "]"
   ]
  },
  {
   "cell_type": "code",
   "execution_count": null,
   "metadata": {},
   "outputs": [],
   "source": [
    "accuracies_arch = []\n",
    "sizes_arch = []\n",
    "\n",
    "prepared = prepare_datasets(train_set_path, test_set_path)\n",
    "(X_train,Y_train) = prepared['training']\n",
    "(X_eval, Y_eval) = prepared['eval']\n",
    "labels = prepared['labels']\n",
    "feature_mean = prepared['feature_mean']\n",
    "feature_std = prepared['feature_std']\n",
    "features = prepared['features']\n",
    "\n",
    "for arch in range(len(architecture_to_test)):\n",
    "    accuracies_arch.append([])\n",
    "    sizes_arch.append([])\n",
    "    print(f\"\\n\\nEvaluating architecture {architecture_to_test[arch]}\")\n",
    "    for model_it in range(10):\n",
    "        tf.keras.backend.clear_session()\n",
    "        print(f\"Model {model_it}\")\n",
    "        # Create test split\n",
    "        X_train_split, X_test, Y_train_split, Y_test = train_test_split(X_train,Y_train,test_size=0.1)\n",
    "        # Create and eval model\n",
    "        model, acc, size = eval_model(X_train_split,\n",
    "                                   Y_train_split,\n",
    "                                   X_test,\n",
    "                                   Y_test,\n",
    "                                   X_eval,\n",
    "                                   Y_eval,\n",
    "                                   labels,\n",
    "                                   feature_mean,\n",
    "                                   feature_std,\n",
    "                                   features,\n",
    "                                   verbose=0,\n",
    "                                   quantize_model=True,\n",
    "                                   layers=architecture_to_test[arch],\n",
    "                               )\n",
    "        accuracies_arch[-1].append(acc)\n",
    "        sizes_arch[-1].append(size)\n",
    "accuracies_arch = np.array(accuracies_arch)"
   ]
  },
  {
   "cell_type": "code",
   "execution_count": null,
   "metadata": {},
   "outputs": [],
   "source": [
    "x_axis[:2].shape"
   ]
  },
  {
   "cell_type": "code",
   "execution_count": null,
   "metadata": {},
   "outputs": [],
   "source": [
    "fig,ax = plt.subplots(2,1, figsize=(4,4.2),sharex=True)\n",
    "ax[0].set_axisbelow(True)\n",
    "ax[1].set_axisbelow(True)\n",
    "\n",
    "tflm_extra_space = 5 #in KB\n",
    "\n",
    "x_axis = (np.arange(len(architecture_to_test)+2)+1)*0.5\n",
    "\n",
    "\n",
    "# decision tree\n",
    "ax[0].bar(x_axis[0],\n",
    "          np.nanmean([72.25,71.50,72.09,72.42,72.44,72.95,72.47,71.10,71.79,73.12]),\n",
    "          yerr=np.nanstd([72.25,71.50,72.09,72.42,72.44,72.95,72.47,71.10,71.79,73.12]),\n",
    "          width=0.3,\n",
    "          capsize=5,\n",
    "          linewidth=0.8,\n",
    "          edgecolor='black',\n",
    "          color='#55efc4'\n",
    "       )\n",
    "# random forest\n",
    "ax[0].bar(x_axis[1],\n",
    "          np.nanmean([79.42,79.78,79.34,78.72,79.59,79.24,79.67,78.89,79.37,79.52]),\n",
    "          yerr=np.nanstd([79.42,79.78,79.34,78.72,79.59,79.24,79.67,78.89,79.37,79.52]),\n",
    "          width=0.3,\n",
    "          capsize=5,\n",
    "          linewidth=0.8,\n",
    "          edgecolor='black',\n",
    "          color='#00b894',\n",
    "          hatch='/',\n",
    "       )\n",
    "\n",
    "# BlueSeer\n",
    "ax[0].bar(x_axis[2:],\n",
    "       np.nanmean(accuracies_arch,axis=-1)*100,\n",
    "       yerr=np.nanstd(accuracies_arch,axis=-1)*100,\n",
    "       width=0.3,\n",
    "       capsize=5,\n",
    "       linewidth=0.8,\n",
    "       edgecolor='black',\n",
    "       color='#0984e3'\n",
    "       )\n",
    "# ax[0].bar(x_axis[4],\n",
    "#        np.nanmean(accuracies_arch[2])*100,\n",
    "#        yerr=np.nanstd(accuracies_arch[2])*100,\n",
    "#        width=0.3,\n",
    "#        capsize=5,\n",
    "#        linewidth=1.5,\n",
    "#        edgecolor='black',\n",
    "#        color='#74b9ff'\n",
    "#        )\n",
    "ax[0].grid(axis='y',linestyle='dashed')\n",
    "ax[0].axis([0.25,4.25,70,90])\n",
    "ax[0].set_ylabel(\"Accuracy [%]\")\n",
    "ax[0].set_yticks([70,75,80,85,90])\n",
    "\n",
    "\n",
    "# Memory usage\n",
    "\n",
    "ax[1].bar(x_axis[0],\n",
    "        15631.2/1000,\n",
    "        width=0.3,\n",
    "        capsize=5,\n",
    "        linewidth=0.8,\n",
    "        edgecolor='black',\n",
    "        color='#55efc4'\n",
    "       )\n",
    "# random forest\n",
    "ax[1].bar(x_axis[1],\n",
    "        161360.8/1000,\n",
    "        width=0.3,\n",
    "        capsize=5,\n",
    "        linewidth=0.8,\n",
    "        edgecolor='black',\n",
    "        color='#00b894',\n",
    "        hatch='/',\n",
    "       )\n",
    "\n",
    "# BlueSeer\n",
    "ax[1].bar(x_axis[2:],\n",
    "       np.nanmean(sizes_arch,axis=-1)/1000 + tflm_extra_space,\n",
    "       yerr=np.nanstd(sizes_arch,axis=-1)/1000,\n",
    "       width=0.3,\n",
    "       capsize=5,\n",
    "       linewidth=0.8,\n",
    "       edgecolor='black',\n",
    "       color='#0984e3'\n",
    "       )\n",
    "\n",
    "\n",
    "# ax[1].bar(x_axis[4],\n",
    "#        np.nanmean(sizes_arch[2])/1000 + tflm_extra_space,\n",
    "#        yerr=np.nanstd(sizes_arch[2])/1000,\n",
    "#        width=0.3,\n",
    "#        capsize=5,\n",
    "#        linewidth=1.5,\n",
    "#        edgecolor='black',\n",
    "#        color='#74b9ff'\n",
    "#        )\n",
    "\n",
    "ax[1].set_ylabel(\"Memory\\n usage [KB]\")\n",
    "ax[0].legend(['Decision Tree', 'Random Forest', 'BlueSeer'],\n",
    "             bbox_to_anchor=(1.1, 1.5),\n",
    "             loc=\"upper right\",\n",
    "             ncol=2,\n",
    "             framealpha=0,\n",
    "            )\n",
    "ax[1].grid(axis='y',linestyle='dashed')\n",
    "ax[1].set_xticks(x_axis)\n",
    "ax[1].set_yticks([0,100,200,300])\n",
    "ax[1].set_xticklabels(['Tree','Forest','[100]','[250]',r'[500]',r'2$\\times$[250]',r'2$\\times$[500]',r'3$\\times$[250]'],\n",
    "                      rotation=25,\n",
    "                      ha='right',\n",
    "                     )\n",
    "ax[1].set_xlabel(\"Network Architecture\")\n",
    "\n",
    "# rect = matplotlib.patches.Rectangle((2.25, 0), 0.5, 100,\n",
    "#                          linewidth=2,\n",
    "#                          edgecolor='r',\n",
    "#                          facecolor='none')\n",
    "# ax[0].add_patch(rect)\n",
    "\n",
    "plt.tight_layout()\n",
    "fig.subplots_adjust(hspace=0.08)\n",
    "\n",
    "matplotlib.rcParams.update({'font.size': 11})\n",
    "\n",
    "plt.savefig('figures/nn_archi_search.pdf', bbox_inches='tight', transparent=True)\n"
   ]
  },
  {
   "cell_type": "code",
   "execution_count": null,
   "metadata": {},
   "outputs": [],
   "source": [
    "#np.save(\"accuracies_arch\", accuracies_arch)\n",
    "#np.save(\"sizes_arch\", sizes_arch)"
   ]
  },
  {
   "cell_type": "code",
   "execution_count": null,
   "metadata": {},
   "outputs": [],
   "source": [
    "# accuracies_arch = np.load(\"numpy_data/accuracies_arch.npy\")\n",
    "# sizes_arch = np.load(\"numpy_data/sizes_arch.npy\")"
   ]
  },
  {
   "cell_type": "code",
   "execution_count": null,
   "metadata": {},
   "outputs": [],
   "source": [
    "np.nanmean(sizes_arch, axis=1)"
   ]
  },
  {
   "cell_type": "code",
   "execution_count": null,
   "metadata": {},
   "outputs": [],
   "source": [
    "#  model, acc = eval_model(X_train_split,\n",
    "#                                    Y_train_split,\n",
    "#                                    X_test,\n",
    "#                                    Y_test,\n",
    "#                                    X_eval,\n",
    "#                                    Y_eval,\n",
    "#                                    labels,\n",
    "#                                    feature_mean,\n",
    "#                                    feature_std,\n",
    "#                                    features,\n",
    "#                                    verbose=1,\n",
    "#                                    quantize_model=False,\n",
    "#                                    layers=[500],)"
   ]
  },
  {
   "cell_type": "markdown",
   "metadata": {},
   "source": [
    "# SKlearn decision tree"
   ]
  },
  {
   "cell_type": "code",
   "execution_count": null,
   "metadata": {},
   "outputs": [],
   "source": [
    "prepared = prepare_datasets(train_set_path, test_set_path)\n",
    "(X_train,Y_train) = prepared['training']\n",
    "(X_eval, Y_eval) = prepared['eval']\n",
    "labels = prepared['labels']\n",
    "feature_mean = prepared['feature_mean']\n",
    "feature_std = prepared['feature_std']\n",
    "features = prepared['features']"
   ]
  },
  {
   "cell_type": "code",
   "execution_count": null,
   "metadata": {},
   "outputs": [],
   "source": [
    "from sklearn.tree import DecisionTreeClassifier\n",
    "\n",
    "accuracies_dt = []\n",
    "sizes_dt = []\n",
    "\n",
    "for i in range(10):\n",
    "    (X_train,Y_train) = prepared['training']\n",
    "    (X_eval, Y_eval) = prepared['eval']\n",
    "    # Create test split\n",
    "    X_train_split, X_test, Y_train_split, Y_test = train_test_split(X_train,Y_train,test_size=0.1)\n",
    "    dt_model = DecisionTreeClassifier()\n",
    "    dt_model.fit(X_train_split,Y_train_split)\n",
    "    pred = dt_model.predict(X_eval)\n",
    "    print(f\"Tree model {i}: {np.sum(np.equal(pred,Y_eval))/pred.shape[0]*100:.2f}\")\n",
    "    accuracies_dt.append(np.sum(np.equal(pred,Y_eval))/pred.shape[0]*100)\n",
    "    size = dt_model.tree_.node_count\n",
    "    sizes_dt.append(size)\n",
    "accuracy_dt = np.nanmean(accuracies_dt)\n",
    "print(f\"avg: {accuracy_dt:.2f}%\")\n",
    "print(f\"size: {np.nanmean(sizes_dt)*4}\")"
   ]
  },
  {
   "cell_type": "code",
   "execution_count": null,
   "metadata": {},
   "outputs": [],
   "source": [
    "def print_tree(dt_model, features):\n",
    "    features = [[f\"{p}_{i}\" for p in features] for i in range(5)]\n",
    "    features = [item for sublist in features for item in sublist]\n",
    "    fig = plt.figure(figsize=(25,20))\n",
    "    _ = tree.plot_tree(dt_model,\n",
    "                               feature_names=features,\n",
    "                               class_names=labels,\n",
    "                               filled=True)"
   ]
  },
  {
   "cell_type": "markdown",
   "metadata": {},
   "source": [
    "# Random Forest"
   ]
  },
  {
   "cell_type": "code",
   "execution_count": null,
   "metadata": {},
   "outputs": [],
   "source": [
    "accuracies_dt = []\n",
    "sizes_dt = []\n",
    "\n",
    "for i in range(10):\n",
    "    (X_train,Y_train) = prepared['training']\n",
    "    (X_eval, Y_eval) = prepared['eval']\n",
    "    # Create test split\n",
    "    X_train_split, X_test, Y_train_split, Y_test = train_test_split(X_train,Y_train,test_size=0.1)\n",
    "    dt_model = RandomForestClassifier(n_estimators=10)\n",
    "    dt_model.fit(X_train_split,Y_train_split)\n",
    "    pred = dt_model.predict(X_eval)\n",
    "    print(f\"Forest model {i}: {np.sum(np.equal(pred,Y_eval))/pred.shape[0]*100:.2f}\")\n",
    "    accuracies_dt.append(np.sum(np.equal(pred,Y_eval))/pred.shape[0]*100)\n",
    "    size = 0\n",
    "    for tree in dt_model.estimators_:\n",
    "        size += tree.tree_.node_count*4\n",
    "    sizes_dt.append(size)\n",
    "accuracy_dt = np.nanmean(accuracies_dt)\n",
    "print(f\"avg: {accuracy_dt:.2f}%\")\n",
    "print(f\"size: {np.nanmean(sizes_dt)}\")"
   ]
  },
  {
   "cell_type": "code",
   "execution_count": null,
   "metadata": {},
   "outputs": [],
   "source": [
    "np.nanmean(sizes_dt)"
   ]
  },
  {
   "cell_type": "markdown",
   "metadata": {},
   "source": [
    "# Confusion Matrix"
   ]
  },
  {
   "cell_type": "code",
   "execution_count": null,
   "metadata": {},
   "outputs": [],
   "source": [
    "cm = confusion_matrix(Y_eval, np.argmax(best_model.predict(X_eval),axis=1))\n",
    "print(cm)\n",
    "max_v = np.sum(cm[0])\n",
    "cm = pd.DataFrame(cm, index = [lbl.capitalize() for lbl in labels],\n",
    "                  columns = [lbl.capitalize() for lbl in labels])"
   ]
  },
  {
   "cell_type": "code",
   "execution_count": null,
   "metadata": {},
   "outputs": [],
   "source": [
    "plt.figure(figsize = (4,4))\n",
    "ax = sn.heatmap(cm/max_v*100,\n",
    "           annot=True,\n",
    "           fmt='.1f',\n",
    "           cmap=\"Blues\",\n",
    "           cbar=False,\n",
    "              )\n",
    "ax.set_ylabel(\"True Class\", fontdict= {'fontweight':'bold'})\n",
    "ax.set_xlabel(\"Predicted Class\", fontdict= {'fontweight':'bold'})\n",
    "\n",
    "plt.tight_layout()\n",
    "matplotlib.rcParams.update({'font.size': 10})\n",
    "\n",
    "plt.savefig('figures/confusion_matrix.pdf', bbox_inches='tight', transparent=True)"
   ]
  },
  {
   "cell_type": "code",
   "execution_count": null,
   "metadata": {},
   "outputs": [],
   "source": [
    "np.sum(np.equal(Y_eval,np.argmax(best_model.predict(X_eval),axis=1)))/len(Y_eval)"
   ]
  },
  {
   "cell_type": "code",
   "execution_count": null,
   "metadata": {},
   "outputs": [],
   "source": [
    "np.sum(cm[:,0])"
   ]
  },
  {
   "cell_type": "code",
   "execution_count": null,
   "metadata": {},
   "outputs": [],
   "source": [
    "labels"
   ]
  },
  {
   "cell_type": "markdown",
   "metadata": {},
   "source": [
    "# Feature analysis"
   ]
  },
  {
   "cell_type": "code",
   "execution_count": null,
   "metadata": {},
   "outputs": [],
   "source": [
    "prepared = prepare_datasets(train_set_path, test_set_path)\n",
    "(X_train,Y_train) = prepared['training']\n",
    "(X_eval, Y_eval) = prepared['eval']\n",
    "labels = prepared['labels']\n",
    "feature_mean = prepared['feature_mean']\n",
    "feature_std = prepared['feature_std']\n",
    "features = prepared['features']"
   ]
  },
  {
   "cell_type": "code",
   "execution_count": null,
   "metadata": {},
   "outputs": [],
   "source": [
    "accuracies_feature = []\n",
    "\n",
    "\n",
    "selected_ft = [[\" device_count\",\" lost_devices\",\" new_devices\",],\n",
    "               [\" different_services\",\" services_count\",\" man_packet_len_count\", \" manufacturer_data_lengths_sum\", \" manufacturer_data_len_avg\"],\n",
    "               [\" txpower_count\",\" tx_power_avg\",\" min_txpower\",\" max_txpower\"],\n",
    "               [\" avg_received\", \" min_received\", \" max_received\"],\n",
    "               [\" avg_avg_rssi\",\" min_avg_rssi\",\" max_avg_rssi\",\" min_rssi\",\" max_rssi\",\" avg_rssi_difference\"]]\n",
    "\n",
    "\n",
    "X_train = keep_n_scans(X_train, num_scans=1)\n",
    "X_eval = keep_n_scans(X_eval, num_scans=1)\n",
    "\n",
    "# Baseline\n",
    "print(\"Baseline\")\n",
    "accuracies_feature.append([])\n",
    "for model_it in range(10):\n",
    "        # Create test split\n",
    "        X_train_split, X_test, Y_train_split, Y_test = train_test_split(X_train,Y_train,test_size=0.1)\n",
    "        # remove feature\n",
    "        # Create and eval model\n",
    "        model, acc,_ = eval_model(X_train_split,\n",
    "                                Y_train_split,\n",
    "                                X_test,\n",
    "                                Y_test,\n",
    "                                X_eval,\n",
    "                                Y_eval,\n",
    "                                labels,\n",
    "                                feature_mean,\n",
    "                                feature_std,\n",
    "                                features,\n",
    "                                verbose=0,\n",
    "                                quantize_model=False,\n",
    "                               )\n",
    "        accuracies_feature[-1].append(acc)\n",
    "\n",
    "for ft in selected_ft:\n",
    "    print(f\"Removing:{ft}\")\n",
    "    accuracies_feature.append([])\n",
    "    for model_it in range(10):\n",
    "        # Create test split\n",
    "        X_train_split, X_test, Y_train_split, Y_test = train_test_split(X_train,Y_train,test_size=0.1)\n",
    "        # remove feature\n",
    "        X_train_ = remove_features(X_train_split,features,ft)\n",
    "        X_test_ = remove_features(X_test,features,ft)\n",
    "        X_eval_ = remove_features(X_eval,features,ft)\n",
    "        # Create and eval model\n",
    "        model, acc,_ = eval_model(X_train_,\n",
    "                                Y_train_split,\n",
    "                                X_test_,\n",
    "                                Y_test,\n",
    "                                X_eval_,\n",
    "                                Y_eval,\n",
    "                                labels,\n",
    "                                feature_mean,\n",
    "                                feature_std,\n",
    "                                features,\n",
    "                                verbose=0,\n",
    "                                quantize_model=False,\n",
    "                               )\n",
    "        accuracies_feature[-1].append(acc)\n",
    "\n",
    "accuracies_feature = np.array(accuracies_feature)\n"
   ]
  },
  {
   "cell_type": "code",
   "execution_count": null,
   "metadata": {},
   "outputs": [],
   "source": [
    "fts = ['All features',\n",
    "       'w/o Nb. Devices',\n",
    "       'w/o Nb. Services',\n",
    "       'w/o TX Power',\n",
    "       'w/o Nb. Adv. ',\n",
    "       'w/o RSS',\n",
    "      ]\n",
    "\n",
    "\n",
    "fig,ax = plt.subplots(1,1, figsize=(6,3),) # sharex=True\n",
    "ax.set_axisbelow(True)\n",
    "\n",
    "ax.plot([-5,30],\n",
    "        [81.5340054]*2,\n",
    "        zorder=-1,\n",
    "        linestyle='--',\n",
    "        linewidth=2,\n",
    "        color='#0984e3'\n",
    "       )\n",
    "\n",
    "\n",
    "ax.bar(np.arange(accuracies_feature.shape[0]),\n",
    "       np.nanmean(accuracies_feature,axis=1)*100,\n",
    "       yerr=np.nanstd(accuracies_feature,axis=1)*100,\n",
    "       width=0.5,\n",
    "       capsize=5,\n",
    "       linewidth=0.8,\n",
    "       edgecolor='black',\n",
    "       color='#0984e3')\n",
    "\n",
    "\n",
    "ax.set_ylabel(\"Accuracy [%]\")\n",
    "ax.grid(axis='y',linestyle='dashed')\n",
    "ax.set_xticks(np.arange(accuracies_feature.shape[0]))\n",
    "ax.set_xticklabels(fts,\n",
    "                   rotation=35,\n",
    "                   ha='right')\n",
    "ax.set_yticks([70,75,80,85,90])\n",
    "ax.axis([-0.5,5.5,70,90])\n",
    "\n",
    "plt.tight_layout()\n",
    "matplotlib.rcParams.update({'font.size': 10})\n",
    "\n",
    "#plt.savefig('figures/feature_analysis.pdf', bbox_inches='tight', transparent=True)"
   ]
  },
  {
   "cell_type": "code",
   "execution_count": null,
   "metadata": {},
   "outputs": [],
   "source": [
    "np.nanmean(accuracies_feature,axis=1)*100"
   ]
  },
  {
   "cell_type": "code",
   "execution_count": null,
   "metadata": {},
   "outputs": [],
   "source": [
    "np.unique(Y_eval)"
   ]
  },
  {
   "cell_type": "code",
   "execution_count": null,
   "metadata": {},
   "outputs": [],
   "source": [
    "#np.save(\"acc_feature_analysis\", accuracies_feature)"
   ]
  },
  {
   "cell_type": "code",
   "execution_count": null,
   "metadata": {},
   "outputs": [],
   "source": [
    "#accuracies_feature = np.load(\"numpy_data/acc_feature_analysis.npy\")"
   ]
  },
  {
   "cell_type": "code",
   "execution_count": null,
   "metadata": {},
   "outputs": [],
   "source": [
    "interesting_features = np.array([0,1,2,3,4,5,6,7,14,15,22])\n",
    "for i in interesting_features:\n",
    "    print(features[i])"
   ]
  },
  {
   "cell_type": "markdown",
   "metadata": {},
   "source": [
    "# SKLearn Feature selection"
   ]
  },
  {
   "cell_type": "code",
   "execution_count": null,
   "metadata": {},
   "outputs": [],
   "source": [
    "from sklearn.feature_selection import SelectKBest, f_classif\n",
    "\n",
    "dd = SelectKBest(f_classif, k=50)\n",
    "X_new = dd.fit_transform(X_train, Y_train)\n",
    "Xe_new = dd.transform(X_eval)"
   ]
  },
  {
   "cell_type": "code",
   "execution_count": null,
   "metadata": {},
   "outputs": [],
   "source": [
    "for idx in dd.get_support(True):\n",
    "    scan_idx = idx//23\n",
    "    ft = idx%23\n",
    "    print(f\"{features[ft]}, scan {scan_idx}\")"
   ]
  },
  {
   "cell_type": "code",
   "execution_count": null,
   "metadata": {},
   "outputs": [],
   "source": [
    "d1, d2 = f_classif(X_train, Y_train)"
   ]
  },
  {
   "cell_type": "code",
   "execution_count": null,
   "metadata": {},
   "outputs": [],
   "source": [
    "plt.plot(d1[:23])\n",
    "i = 0\n",
    "for ft in features:\n",
    "    print(f\"{i}: {ft}, {d1[i]}\")\n",
    "    i+=1"
   ]
  },
  {
   "cell_type": "code",
   "execution_count": null,
   "metadata": {},
   "outputs": [],
   "source": [
    "dt_model = DecisionTreeClassifier()\n",
    "dt_model.fit(X_new,Y_train)\n",
    "pred = dt_model.predict(Xe_new)\n",
    "print(f\"Tree model {i}: {np.sum(np.equal(pred,Y_eval))/pred.shape[0]*100:.2f}\")\n",
    "\n",
    "dt_model = DecisionTreeClassifier()\n",
    "dt_model.fit(X_train,Y_train)\n",
    "pred = dt_model.predict(X_eval)\n",
    "print(f\"Tree model {i}: {np.sum(np.equal(pred,Y_eval))/pred.shape[0]*100:.2f}\")"
   ]
  },
  {
   "cell_type": "code",
   "execution_count": null,
   "metadata": {},
   "outputs": [],
   "source": []
  },
  {
   "cell_type": "code",
   "execution_count": null,
   "metadata": {},
   "outputs": [],
   "source": []
  },
  {
   "cell_type": "code",
   "execution_count": null,
   "metadata": {},
   "outputs": [],
   "source": [
    "inpt = [[32,3,0,2,3,61,16,5,246,238,116,15,12,1,31,-70,-88,-33,-91,-32,6,7425,63618,\n",
    "         35,0,4,2,5,56,25,5,246,230,116,15,11,1,27,-71,-89,-33,-89,-32,6,6042,58696,\n",
    "         31,1,3,2,5,56,12,5,246,226,134,15,12,1,31,-69,-87,-34,-87,-33,6,8416,68209,\n",
    "         29,2,4,3,6,64,23,5,246,224,116,15,13,1,32,-69,-90,-34,-90,-32,7,9586,71786,\n",
    "         27,6,2,2,3,54,21,5,246,231,116,15,14,1,30,-67,-85,-34,-86,-34,6,9894,76912,]]\n",
    "inpt,_ = normalize_data(inpt,[\"office\"],feature_mean,feature_std,labels)"
   ]
  },
  {
   "cell_type": "code",
   "execution_count": null,
   "metadata": {},
   "outputs": [],
   "source": [
    "print(labels)"
   ]
  },
  {
   "cell_type": "code",
   "execution_count": null,
   "metadata": {},
   "outputs": [],
   "source": [
    "best_model.predict(inpt)"
   ]
  }
 ],
 "metadata": {
  "accelerator": "TPU",
  "colab": {
   "collapsed_sections": [],
   "machine_shape": "hm",
   "name": "ble_environment_classification.ipynb",
   "provenance": []
  },
  "kernelspec": {
   "display_name": "Python 3",
   "language": "python",
   "name": "python3"
  },
  "language_info": {
   "codemirror_mode": {
    "name": "ipython",
    "version": 3
   },
   "file_extension": ".py",
   "mimetype": "text/x-python",
   "name": "python",
   "nbconvert_exporter": "python",
   "pygments_lexer": "ipython3",
   "version": "3.7.9"
  }
 },
 "nbformat": 4,
 "nbformat_minor": 1
}
